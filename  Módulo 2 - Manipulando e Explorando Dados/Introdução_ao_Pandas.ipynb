{
  "nbformat": 4,
  "nbformat_minor": 0,
  "metadata": {
    "colab": {
      "name": "Introdução ao Pandas.ipynb",
      "provenance": []
    },
    "kernelspec": {
      "name": "python3",
      "display_name": "Python 3",
      "language": "python"
    }
  },
  "cells": [
    {
      "source": [
        "# Pandas\n",
        "\n",
        "Pandas é uma biblioteca *Python* fácil, poderosa, flexivél e fácil de usar. Ela é uma biblioteca para manipulação e análise de dados, permite ler, manipular, agregar e plotar dados. É a principal e mais completa biblioteca para análise de Dados, por isso se tornou a mais famosa e mais utilizada. Há diversos tipos de arquivos que são passíveis de serem lidos utilizando o Pandas. \n",
        "\n",
        "Algumas outras bibliotecas trabalham em conjunto com o pandas para poder refinar as análises, tais como:\n",
        "* Seaborn\n",
        "* NumPy\n",
        "* Matplotib\n",
        "* Scikit-Learn\n",
        "\n",
        "Outra vantagem do Pandas é que a leitura dos dados podem ser apresentados como tabelas, o que para o ser humano é mais visualmente aceito. Com o Pandas é possível caregar, manipular o modelo, analisar dados, mesclar dados de diferentes bancos de dados, remodelar os dados. Tudo isso gira em torno de uma estrutura chamada *DataFrame*, que é basicamente um conjunto de colunas contendo dados. Os dados presentes podem ser de qualquer tipo (inteiro, objeto, string, float, bool, etc)"
      ],
      "cell_type": "markdown",
      "metadata": {}
    },
    {
      "cell_type": "code",
      "metadata": {
        "id": "X8ihNPwFZbBp"
      },
      "source": [
        "#Importar biblioteca pandas\n",
        "import pandas as pd"
      ],
      "execution_count": 2,
      "outputs": []
    },
    {
      "cell_type": "code",
      "execution_count": 4,
      "metadata": {},
      "outputs": [],
      "source": [
        "df = pd.read_csv('/home/renata/Desktop/Cursos/Data-Science-na-Pratica/Datasets/BBAS3.SA.csv')"
      ]
    },
    {
      "cell_type": "code",
      "execution_count": 5,
      "metadata": {},
      "outputs": [
        {
          "output_type": "execute_result",
          "data": {
            "text/plain": [
              "pandas.core.frame.DataFrame"
            ]
          },
          "metadata": {},
          "execution_count": 5
        }
      ],
      "source": [
        "type(df)"
      ]
    },
    {
      "cell_type": "code",
      "execution_count": 6,
      "metadata": {},
      "outputs": [
        {
          "output_type": "execute_result",
          "data": {
            "text/plain": [
              "pandas.core.series.Series"
            ]
          },
          "metadata": {},
          "execution_count": 6
        }
      ],
      "source": [
        "type(df['High'])"
      ]
    },
    {
      "cell_type": "code",
      "execution_count": 7,
      "metadata": {},
      "outputs": [
        {
          "output_type": "execute_result",
          "data": {
            "text/plain": [
              "(248, 7)"
            ]
          },
          "metadata": {},
          "execution_count": 7
        }
      ],
      "source": [
        "#Ver o tamanh do dataframe (formato)\n",
        "df.shape"
      ]
    },
    {
      "cell_type": "code",
      "execution_count": 8,
      "metadata": {},
      "outputs": [
        {
          "output_type": "execute_result",
          "data": {
            "text/plain": [
              "         Date       Open       High        Low      Close  Adj Close  \\\n",
              "0  2019-05-06  49.470001  49.669998  49.180000  49.369999  46.886795   \n",
              "1  2019-05-07  49.080002  49.680000  48.220001  49.490002  47.000763   \n",
              "2  2019-05-08  49.500000  50.840000  49.500000  50.590000  48.045422   \n",
              "3  2019-05-09  50.910000  51.259998  50.119999  51.029999  48.463291   \n",
              "4  2019-05-10  51.099998  51.189999  49.860001  50.160000  47.637051   \n",
              "\n",
              "       Volume  \n",
              "0   6314800.0  \n",
              "1  10846100.0  \n",
              "2  14459600.0  \n",
              "3  15377500.0  \n",
              "4   8975300.0  "
            ],
            "text/html": "<div>\n<style scoped>\n    .dataframe tbody tr th:only-of-type {\n        vertical-align: middle;\n    }\n\n    .dataframe tbody tr th {\n        vertical-align: top;\n    }\n\n    .dataframe thead th {\n        text-align: right;\n    }\n</style>\n<table border=\"1\" class=\"dataframe\">\n  <thead>\n    <tr style=\"text-align: right;\">\n      <th></th>\n      <th>Date</th>\n      <th>Open</th>\n      <th>High</th>\n      <th>Low</th>\n      <th>Close</th>\n      <th>Adj Close</th>\n      <th>Volume</th>\n    </tr>\n  </thead>\n  <tbody>\n    <tr>\n      <th>0</th>\n      <td>2019-05-06</td>\n      <td>49.470001</td>\n      <td>49.669998</td>\n      <td>49.180000</td>\n      <td>49.369999</td>\n      <td>46.886795</td>\n      <td>6314800.0</td>\n    </tr>\n    <tr>\n      <th>1</th>\n      <td>2019-05-07</td>\n      <td>49.080002</td>\n      <td>49.680000</td>\n      <td>48.220001</td>\n      <td>49.490002</td>\n      <td>47.000763</td>\n      <td>10846100.0</td>\n    </tr>\n    <tr>\n      <th>2</th>\n      <td>2019-05-08</td>\n      <td>49.500000</td>\n      <td>50.840000</td>\n      <td>49.500000</td>\n      <td>50.590000</td>\n      <td>48.045422</td>\n      <td>14459600.0</td>\n    </tr>\n    <tr>\n      <th>3</th>\n      <td>2019-05-09</td>\n      <td>50.910000</td>\n      <td>51.259998</td>\n      <td>50.119999</td>\n      <td>51.029999</td>\n      <td>48.463291</td>\n      <td>15377500.0</td>\n    </tr>\n    <tr>\n      <th>4</th>\n      <td>2019-05-10</td>\n      <td>51.099998</td>\n      <td>51.189999</td>\n      <td>49.860001</td>\n      <td>50.160000</td>\n      <td>47.637051</td>\n      <td>8975300.0</td>\n    </tr>\n  </tbody>\n</table>\n</div>"
          },
          "metadata": {},
          "execution_count": 8
        }
      ],
      "source": [
        "#Mostrar as 5 primeiras entradas do DataFrame\n",
        "df.head()"
      ]
    },
    {
      "cell_type": "code",
      "execution_count": 9,
      "metadata": {},
      "outputs": [
        {
          "output_type": "execute_result",
          "data": {
            "text/plain": [
              "           Date       Open       High        Low      Close  Adj Close  \\\n",
              "243  2020-04-27  25.500000  26.200001  25.110001  25.690001  25.690001   \n",
              "244  2020-04-28  27.219999  29.250000  27.110001  29.139999  29.139999   \n",
              "245  2020-04-29  30.040001  30.209999  28.730000  29.559999  29.559999   \n",
              "246  2020-04-30  28.309999  28.780001  27.850000  28.500000  28.500000   \n",
              "247  2020-05-04  27.370001  27.760000  26.990000  27.760000  27.760000   \n",
              "\n",
              "         Volume  \n",
              "243  32132800.0  \n",
              "244  43232700.0  \n",
              "245  24628700.0  \n",
              "246  23935300.0  \n",
              "247  16586000.0  "
            ],
            "text/html": "<div>\n<style scoped>\n    .dataframe tbody tr th:only-of-type {\n        vertical-align: middle;\n    }\n\n    .dataframe tbody tr th {\n        vertical-align: top;\n    }\n\n    .dataframe thead th {\n        text-align: right;\n    }\n</style>\n<table border=\"1\" class=\"dataframe\">\n  <thead>\n    <tr style=\"text-align: right;\">\n      <th></th>\n      <th>Date</th>\n      <th>Open</th>\n      <th>High</th>\n      <th>Low</th>\n      <th>Close</th>\n      <th>Adj Close</th>\n      <th>Volume</th>\n    </tr>\n  </thead>\n  <tbody>\n    <tr>\n      <th>243</th>\n      <td>2020-04-27</td>\n      <td>25.500000</td>\n      <td>26.200001</td>\n      <td>25.110001</td>\n      <td>25.690001</td>\n      <td>25.690001</td>\n      <td>32132800.0</td>\n    </tr>\n    <tr>\n      <th>244</th>\n      <td>2020-04-28</td>\n      <td>27.219999</td>\n      <td>29.250000</td>\n      <td>27.110001</td>\n      <td>29.139999</td>\n      <td>29.139999</td>\n      <td>43232700.0</td>\n    </tr>\n    <tr>\n      <th>245</th>\n      <td>2020-04-29</td>\n      <td>30.040001</td>\n      <td>30.209999</td>\n      <td>28.730000</td>\n      <td>29.559999</td>\n      <td>29.559999</td>\n      <td>24628700.0</td>\n    </tr>\n    <tr>\n      <th>246</th>\n      <td>2020-04-30</td>\n      <td>28.309999</td>\n      <td>28.780001</td>\n      <td>27.850000</td>\n      <td>28.500000</td>\n      <td>28.500000</td>\n      <td>23935300.0</td>\n    </tr>\n    <tr>\n      <th>247</th>\n      <td>2020-05-04</td>\n      <td>27.370001</td>\n      <td>27.760000</td>\n      <td>26.990000</td>\n      <td>27.760000</td>\n      <td>27.760000</td>\n      <td>16586000.0</td>\n    </tr>\n  </tbody>\n</table>\n</div>"
          },
          "metadata": {},
          "execution_count": 9
        }
      ],
      "source": [
        "#Mostrar as 5 últimas entradas do DataFrame\n",
        "df.tail()"
      ]
    },
    {
      "cell_type": "code",
      "execution_count": 10,
      "metadata": {},
      "outputs": [
        {
          "output_type": "execute_result",
          "data": {
            "text/plain": [
              "Index(['Date', 'Open', 'High', 'Low', 'Close', 'Adj Close', 'Volume'], dtype='object')"
            ]
          },
          "metadata": {},
          "execution_count": 10
        }
      ],
      "source": [
        "#Ver os nomes da colunas\n",
        "df.columns"
      ]
    },
    {
      "cell_type": "code",
      "execution_count": 11,
      "metadata": {},
      "outputs": [
        {
          "output_type": "execute_result",
          "data": {
            "text/plain": [
              "Date          object\n",
              "Open         float64\n",
              "High         float64\n",
              "Low          float64\n",
              "Close        float64\n",
              "Adj Close    float64\n",
              "Volume       float64\n",
              "dtype: object"
            ]
          },
          "metadata": {},
          "execution_count": 11
        }
      ],
      "source": [
        "df.dtypes"
      ]
    },
    {
      "cell_type": "code",
      "execution_count": 12,
      "metadata": {},
      "outputs": [
        {
          "output_type": "stream",
          "name": "stdout",
          "text": [
            "<class 'pandas.core.frame.DataFrame'>\nRangeIndex: 248 entries, 0 to 247\nData columns (total 7 columns):\n #   Column     Non-Null Count  Dtype  \n---  ------     --------------  -----  \n 0   Date       248 non-null    object \n 1   Open       247 non-null    float64\n 2   High       247 non-null    float64\n 3   Low        247 non-null    float64\n 4   Close      247 non-null    float64\n 5   Adj Close  247 non-null    float64\n 6   Volume     247 non-null    float64\ndtypes: float64(6), object(1)\nmemory usage: 13.7+ KB\n"
          ]
        }
      ],
      "source": [
        "df.info()"
      ]
    },
    {
      "cell_type": "code",
      "execution_count": 16,
      "metadata": {},
      "outputs": [
        {
          "output_type": "execute_result",
          "data": {
            "text/plain": [
              "0      49.669998\n",
              "1      49.680000\n",
              "2      50.840000\n",
              "3      51.259998\n",
              "4      51.189999\n",
              "         ...    \n",
              "243    26.200001\n",
              "244    29.250000\n",
              "245    30.209999\n",
              "246    28.780001\n",
              "247    27.760000\n",
              "Name: High, Length: 248, dtype: float64"
            ]
          },
          "metadata": {},
          "execution_count": 16
        }
      ],
      "source": [
        "#Selecionar a variável (coluna) \"High\" da nossa variável df\n",
        "df['High']"
      ]
    },
    {
      "cell_type": "code",
      "execution_count": 17,
      "metadata": {},
      "outputs": [
        {
          "output_type": "execute_result",
          "data": {
            "text/plain": [
              "0      49.669998\n",
              "1      49.680000\n",
              "2      50.840000\n",
              "3      51.259998\n",
              "4      51.189999\n",
              "         ...    \n",
              "243    26.200001\n",
              "244    29.250000\n",
              "245    30.209999\n",
              "246    28.780001\n",
              "247    27.760000\n",
              "Name: High, Length: 248, dtype: float64"
            ]
          },
          "metadata": {},
          "execution_count": 17
        }
      ],
      "source": [
        "#Selecionar a variável (coluna) \"High\" de outra foma\n",
        "df.High"
      ]
    },
    {
      "cell_type": "code",
      "execution_count": 18,
      "metadata": {},
      "outputs": [
        {
          "output_type": "execute_result",
          "data": {
            "text/plain": [
              "46.57639677327938"
            ]
          },
          "metadata": {},
          "execution_count": 18
        }
      ],
      "source": [
        "#Calcular a média da coluna \"High\"\n",
        "df.High.mean()"
      ]
    },
    {
      "cell_type": "code",
      "execution_count": 19,
      "metadata": {},
      "outputs": [
        {
          "output_type": "execute_result",
          "data": {
            "text/plain": [
              "0      2019-05-06\n",
              "1      2019-05-07\n",
              "2      2019-05-08\n",
              "3      2019-05-09\n",
              "4      2019-05-10\n",
              "          ...    \n",
              "243    2020-04-27\n",
              "244    2020-04-28\n",
              "245    2020-04-29\n",
              "246    2020-04-30\n",
              "247    2020-05-04\n",
              "Name: Date, Length: 248, dtype: object"
            ]
          },
          "metadata": {},
          "execution_count": 19
        }
      ],
      "source": [
        "#Antes\n",
        "df.Date"
      ]
    },
    {
      "cell_type": "code",
      "execution_count": 21,
      "metadata": {},
      "outputs": [],
      "source": [
        "#Converter coluna Date em datetime\n",
        "df.Date = pd.to_datetime(df.Date, format='%Y-%m-%d')"
      ]
    },
    {
      "cell_type": "code",
      "execution_count": 22,
      "metadata": {},
      "outputs": [
        {
          "output_type": "execute_result",
          "data": {
            "text/plain": [
              "0     2019-05-06\n",
              "1     2019-05-07\n",
              "2     2019-05-08\n",
              "3     2019-05-09\n",
              "4     2019-05-10\n",
              "         ...    \n",
              "243   2020-04-27\n",
              "244   2020-04-28\n",
              "245   2020-04-29\n",
              "246   2020-04-30\n",
              "247   2020-05-04\n",
              "Name: Date, Length: 248, dtype: datetime64[ns]"
            ]
          },
          "metadata": {},
          "execution_count": 22
        }
      ],
      "source": [
        "df.Date"
      ]
    },
    {
      "cell_type": "code",
      "execution_count": 23,
      "metadata": {},
      "outputs": [
        {
          "output_type": "execute_result",
          "data": {
            "text/plain": [
              "0      2019\n",
              "1      2019\n",
              "2      2019\n",
              "3      2019\n",
              "4      2019\n",
              "       ... \n",
              "243    2020\n",
              "244    2020\n",
              "245    2020\n",
              "246    2020\n",
              "247    2020\n",
              "Name: Date, Length: 248, dtype: int64"
            ]
          },
          "metadata": {},
          "execution_count": 23
        }
      ],
      "source": [
        "#Ano\n",
        "df.Date.dt.year"
      ]
    },
    {
      "cell_type": "code",
      "execution_count": 24,
      "metadata": {},
      "outputs": [
        {
          "output_type": "execute_result",
          "data": {
            "text/plain": [
              "0      5\n",
              "1      5\n",
              "2      5\n",
              "3      5\n",
              "4      5\n",
              "      ..\n",
              "243    4\n",
              "244    4\n",
              "245    4\n",
              "246    4\n",
              "247    5\n",
              "Name: Date, Length: 248, dtype: int64"
            ]
          },
          "metadata": {},
          "execution_count": 24
        }
      ],
      "source": [
        "#Mês\n",
        "df.Date.dt.month"
      ]
    },
    {
      "cell_type": "code",
      "execution_count": 25,
      "metadata": {},
      "outputs": [
        {
          "output_type": "execute_result",
          "data": {
            "text/plain": [
              "0       6\n",
              "1       7\n",
              "2       8\n",
              "3       9\n",
              "4      10\n",
              "       ..\n",
              "243    27\n",
              "244    28\n",
              "245    29\n",
              "246    30\n",
              "247     4\n",
              "Name: Date, Length: 248, dtype: int64"
            ]
          },
          "metadata": {},
          "execution_count": 25
        }
      ],
      "source": [
        "#Dia\n",
        "df.Date.dt.day"
      ]
    },
    {
      "cell_type": "code",
      "execution_count": 26,
      "metadata": {},
      "outputs": [
        {
          "output_type": "execute_result",
          "data": {
            "text/plain": [
              "0      0\n",
              "1      1\n",
              "2      2\n",
              "3      3\n",
              "4      4\n",
              "      ..\n",
              "243    0\n",
              "244    1\n",
              "245    2\n",
              "246    3\n",
              "247    0\n",
              "Name: Date, Length: 248, dtype: int64"
            ]
          },
          "metadata": {},
          "execution_count": 26
        }
      ],
      "source": [
        "df.Date.dt.weekday"
      ]
    },
    {
      "cell_type": "code",
      "execution_count": 27,
      "metadata": {},
      "outputs": [
        {
          "output_type": "execute_result",
          "data": {
            "text/plain": [
              "0      19\n",
              "1      19\n",
              "2      19\n",
              "3      19\n",
              "4      19\n",
              "       ..\n",
              "243    18\n",
              "244    18\n",
              "245    18\n",
              "246    18\n",
              "247    19\n",
              "Name: Date, Length: 248, dtype: int64"
            ]
          },
          "metadata": {},
          "execution_count": 27
        }
      ],
      "source": [
        "df.Date.dt.weekofyear"
      ]
    },
    {
      "cell_type": "code",
      "execution_count": null,
      "metadata": {},
      "outputs": [],
      "source": []
    }
  ]
}