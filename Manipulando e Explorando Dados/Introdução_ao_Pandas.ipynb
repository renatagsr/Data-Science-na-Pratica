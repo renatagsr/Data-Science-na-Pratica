{
  "nbformat": 4,
  "nbformat_minor": 0,
  "metadata": {
    "colab": {
      "name": "Introdução ao Pandas.ipynb",
      "provenance": []
    },
    "kernelspec": {
      "name": "python3",
      "display_name": "Python 3",
      "language": "python"
    }
  },
  "cells": [
    {
      "source": [
        "# Pandas\n",
        "\n",
        "<center><img width = 40% src = 'https://miro.medium.com/max/700/1*fUO28EIHi1bkZPhjZ451tQ.jpeg'></center>\n",
        "\n",
        "[Fonte da iamgem](https://medium.com/horadecodar/como-usar-o-query-do-pandas-fdf4a00727dc)\n",
        "\n",
        "Pandas é poderosa, flexível e fácil de usar. Ela é uma biblioteca para manipulação e análise de dados, que permite ler, manipular, agregar e plotar dados. É a principal e mais completa biblioteca para análise de Dados, por isso se tornou a mais famosa e mais utilizada. Há diversos tipos de arquivos que são passíveis de serem lidos utilizando o Pandas. \n",
        "\n",
        "Outra vantagem do Pandas é que a leitura dos dados podem ser apresentados como tabelas, o que para o ser humano é mais visualmente aceito. Com o Pandas é possível carregar, manipular o modelo, analisar dados, mesclar dados de diferentes bancos de dados, remodelar os dados. Tudo isso gira em torno de uma estrutura chamada *DataFrame*, que é basicamente um conjunto de colunas contendo dados. Os dados presentes podem ser de qualquer tipo (inteiro, objeto, string, float, bool, etc)\n",
        "\n",
        "Algumas outras bibliotecas trabalham em conjunto com o pandas para poder refinar as análises, tais como:\n",
        "* Seaborn\n",
        "* NumPy\n",
        "* Matplotib\n",
        "* Scikit-Learn\n",
        "\n"
      ],
      "cell_type": "markdown",
      "metadata": {}
    },
    {
      "source": [
        "## Instalando Pandas\n",
        "\n",
        "Caso esteja utilizando o *Google Colab* ou Anaconda não é necessário a instalação, pois o Pandas já vem integrado a eles por padrão.\n",
        "\n",
        "Caso esteja utilizando outro recurso basta utilizar a seguinte linha de comando no terminal:\n",
        "\n",
        "`pip install pandas`\n",
        "\n",
        "ou \n",
        "\n",
        "`conda install pandas`\n",
        "\n",
        "Após a instalação, caso ela tenha sido necessária, basta importar a biblioteca para poder a utilizar. Para importar qualquer pacote é necessário dar o comando `import nome_do_pacote`, o pandas é muito comum ser importado como `import pandas as pd' porque dessa forma o nome da biblioteca é abreviado e facilita a sua utilização. Até hoje não vi um cientista de dados que fugiu dessa regra e importou a biblioteca de outra forma. \n"
      ],
      "cell_type": "markdown",
      "metadata": {}
    },
    {
      "cell_type": "code",
      "metadata": {
        "id": "X8ihNPwFZbBp"
      },
      "source": [
        "#Importar biblioteca pandas\n",
        "import pandas as pd"
      ],
      "execution_count": 1,
      "outputs": []
    },
    {
      "source": [
        "## Importar arquivos `csv`\n",
        "\n",
        "Importar dados utilizando a biblioteca Pandas é muito fácil, basta utilizar uma linha de comando. \n",
        "\n",
        "Nesse *notebook* será utizado o *dataset* retirado do site [Yahoo Finance](https://finance.yahoo.com/), os dados são referentes a comparação do valor do Real em relação ao Dolár. Os dados de um arquivo `csv` podem ser abertos utilizando o *Excel* que é uma ferramenta muito conhecida hoje, o arquivo utilizado ficaria dessa forma se fosse aberto do *Excel*:\n",
        "\n",
        "<center><img width = 100% src = 'https://github.com/renatagsr/Data-Science-na-Pratica/blob/main/excel.png?raw=true'></center>\n",
        "\n",
        "Imagem: Autoria própria\n",
        "\n",
        "Como dito anteriormente o Pandas possui uma grande vantagem que é a poder visualizar os dados em forma de tabela tendo uma ideia semelhante a apresentação de dados do Excel.\n",
        "\n",
        "Para ler os dados basta utilizar a função `pd.read_csv('local_do_arquivo.csv')`."
      ],
      "cell_type": "markdown",
      "metadata": {}
    },
    {
      "cell_type": "code",
      "execution_count": 2,
      "metadata": {},
      "outputs": [],
      "source": [
        "#Importar o arquivo csv para o Pandas\n",
        "df = pd.read_csv('/home/renata/Desktop/Cursos/Data-Science-na-Pratica/Datasets/BRL=X.csv')"
      ]
    },
    {
      "source": [
        "O arquivo CSV já foi importado e está pronto para ser utilizado."
      ],
      "cell_type": "markdown",
      "metadata": {}
    },
    {
      "source": [
        "## Componentes Básicos do Pandas\n",
        "\n",
        "Os dois componentes básicos que são necessários para conhecr quando se trabalha com Pandas são: \n",
        "\n",
        "* `Series`: De forma simples, é uma coluna individual de dados.\n",
        "* `DataFrame`: Pode ser entendida como sendo uma planilha do Excel. Um conjunto de `series` forma um `DataFrame`.\n",
        "\n",
        "<center><img width = 50% src = 'https://storage.googleapis.com/lds-media/images/series-and-dataframe.original.png'></center>\n",
        "\n",
        "[Fonte da imagem](https://www.learndatasci.com/tutorials/python-pandas-tutorial-complete-introduction-for-beginners/)\n",
        "\n",
        "Essas duas estruturas são muito úteis com o trabalho com dados visto que elas podem armazenar qualquer tipo de dados."
      ],
      "cell_type": "markdown",
      "metadata": {}
    },
    {
      "source": [
        "Para ver o tipo de uma variável basta utilizar a função `type()`, dentro do parenteses é fornecido a variável que se deseja saber o tipo."
      ],
      "cell_type": "markdown",
      "metadata": {}
    },
    {
      "cell_type": "code",
      "execution_count": 3,
      "metadata": {},
      "outputs": [
        {
          "output_type": "execute_result",
          "data": {
            "text/plain": [
              "pandas.core.frame.DataFrame"
            ]
          },
          "metadata": {},
          "execution_count": 3
        }
      ],
      "source": [
        "#Ver o tipo da variável df\n",
        "type(df)"
      ]
    },
    {
      "cell_type": "code",
      "execution_count": 4,
      "metadata": {},
      "outputs": [
        {
          "output_type": "execute_result",
          "data": {
            "text/plain": [
              "pandas.core.series.Series"
            ]
          },
          "metadata": {},
          "execution_count": 4
        }
      ],
      "source": [
        "#Ver o tipo de uma coluna da variável df\n",
        "type(df['High'])"
      ]
    },
    {
      "source": [
        "## Ver dimensões do DataFrame\n",
        "\n",
        "Para saber o tamanho da tabela que foi importada também utiliza-se apenas uma função a `dados.shape`, a resposta será, respectivamente, quantas linhas e quantas colunas estão presentes no conjunto de dados."
      ],
      "cell_type": "markdown",
      "metadata": {}
    },
    {
      "cell_type": "code",
      "execution_count": 5,
      "metadata": {},
      "outputs": [
        {
          "output_type": "execute_result",
          "data": {
            "text/plain": [
              "(4482, 7)"
            ]
          },
          "metadata": {},
          "execution_count": 5
        }
      ],
      "source": [
        "#Ver o tamanh do dataframe (formato)\n",
        "df.shape"
      ]
    },
    {
      "source": [
        "Percebe-se que há mais de 4000 linhas nesse conjunto de dados. Cada linha corresponde a um dia do mês sendo que o período é de Novembro de 2003 até Fevereiro de 2021, que é o período máximo fornecido pelo site fonte."
      ],
      "cell_type": "markdown",
      "metadata": {}
    },
    {
      "source": [
        "## Conhecendo os dados\n",
        "\n",
        "Após a importação dos dados é possível utilizar diversos métodos e atributos presentes na biblioteca Pandas que facilitam a exploração de dados. \n",
        "\n",
        "Uma das funções usadas mais recorrentemente é a `dados.head()`, o \"*head*\" vem de **cabeça**, ou seja, mostra os primeiros dados do conjunto, se essa função for colocada do jeito que está o exemplo irá mostrar, por padrão, apenas as 5 primeiras entradas, mas ela permite que se altere essa padrão simplesmente colocando entre parenteses o número de linhas que se deseja ler. Similarmente, há a função `dados.tail()` que parte das mesmas premissas do *head*, porém irá mostrar a **calda** dos elementos, ou seja, os últimos elementos do conjunto. \n",
        "\n",
        "Resumindo:\n",
        "\n",
        "* `dados.head()`: Exibe as 5 **primeiras** entradas;\n",
        "* `dados.tail()`: Exibe as 5 **últimas** entradas.\n",
        "\n",
        "Essas duas funções são úteis porque muitas vezes se torna inviável olhar linha por linha de um conjunto de dados, então utiliza-se essas duas funções para que se tenha uma noção geral de como o conjunto de dados se apresenta."
      ],
      "cell_type": "markdown",
      "metadata": {}
    },
    {
      "cell_type": "code",
      "execution_count": 7,
      "metadata": {},
      "outputs": [
        {
          "output_type": "execute_result",
          "data": {
            "text/plain": [
              "         Date   Open   High    Low  Close  Adj Close  Volume\n",
              "0  2003-12-01  2.946  2.946  2.923  2.923      2.923     0.0\n",
              "1  2003-12-02  2.923  2.931  2.923  2.931      2.931     0.0\n",
              "2  2003-12-03  2.931  2.936  2.926  2.931      2.931     0.0\n",
              "3  2003-12-04  2.931  2.943  2.931  2.943      2.943     0.0\n",
              "4  2003-12-05  2.943  2.948  2.934  2.934      2.934     0.0"
            ],
            "text/html": "<div>\n<style scoped>\n    .dataframe tbody tr th:only-of-type {\n        vertical-align: middle;\n    }\n\n    .dataframe tbody tr th {\n        vertical-align: top;\n    }\n\n    .dataframe thead th {\n        text-align: right;\n    }\n</style>\n<table border=\"1\" class=\"dataframe\">\n  <thead>\n    <tr style=\"text-align: right;\">\n      <th></th>\n      <th>Date</th>\n      <th>Open</th>\n      <th>High</th>\n      <th>Low</th>\n      <th>Close</th>\n      <th>Adj Close</th>\n      <th>Volume</th>\n    </tr>\n  </thead>\n  <tbody>\n    <tr>\n      <th>0</th>\n      <td>2003-12-01</td>\n      <td>2.946</td>\n      <td>2.946</td>\n      <td>2.923</td>\n      <td>2.923</td>\n      <td>2.923</td>\n      <td>0.0</td>\n    </tr>\n    <tr>\n      <th>1</th>\n      <td>2003-12-02</td>\n      <td>2.923</td>\n      <td>2.931</td>\n      <td>2.923</td>\n      <td>2.931</td>\n      <td>2.931</td>\n      <td>0.0</td>\n    </tr>\n    <tr>\n      <th>2</th>\n      <td>2003-12-03</td>\n      <td>2.931</td>\n      <td>2.936</td>\n      <td>2.926</td>\n      <td>2.931</td>\n      <td>2.931</td>\n      <td>0.0</td>\n    </tr>\n    <tr>\n      <th>3</th>\n      <td>2003-12-04</td>\n      <td>2.931</td>\n      <td>2.943</td>\n      <td>2.931</td>\n      <td>2.943</td>\n      <td>2.943</td>\n      <td>0.0</td>\n    </tr>\n    <tr>\n      <th>4</th>\n      <td>2003-12-05</td>\n      <td>2.943</td>\n      <td>2.948</td>\n      <td>2.934</td>\n      <td>2.934</td>\n      <td>2.934</td>\n      <td>0.0</td>\n    </tr>\n  </tbody>\n</table>\n</div>"
          },
          "metadata": {},
          "execution_count": 7
        }
      ],
      "source": [
        "#Mostrar as 5 primeiras entradas do DataFrame\n",
        "df.head()"
      ]
    },
    {
      "cell_type": "code",
      "execution_count": 8,
      "metadata": {},
      "outputs": [
        {
          "output_type": "execute_result",
          "data": {
            "text/plain": [
              "            Date      Open    High       Low     Close  Adj Close  Volume\n",
              "4477  2021-01-27  5.354000  5.4173  5.349200  5.353800   5.353800     0.0\n",
              "4478  2021-01-28  5.411900  5.4541  5.388964  5.412600   5.412600     0.0\n",
              "4479  2021-01-29  5.437484  5.5037  5.411807  5.437989   5.437989     0.0\n",
              "4480  2021-02-01  5.460800  5.4825  5.417943  5.460800   5.460800     0.0\n",
              "4481  2021-02-02  5.432200  5.4597  5.342200  5.362900   5.362900     0.0"
            ],
            "text/html": "<div>\n<style scoped>\n    .dataframe tbody tr th:only-of-type {\n        vertical-align: middle;\n    }\n\n    .dataframe tbody tr th {\n        vertical-align: top;\n    }\n\n    .dataframe thead th {\n        text-align: right;\n    }\n</style>\n<table border=\"1\" class=\"dataframe\">\n  <thead>\n    <tr style=\"text-align: right;\">\n      <th></th>\n      <th>Date</th>\n      <th>Open</th>\n      <th>High</th>\n      <th>Low</th>\n      <th>Close</th>\n      <th>Adj Close</th>\n      <th>Volume</th>\n    </tr>\n  </thead>\n  <tbody>\n    <tr>\n      <th>4477</th>\n      <td>2021-01-27</td>\n      <td>5.354000</td>\n      <td>5.4173</td>\n      <td>5.349200</td>\n      <td>5.353800</td>\n      <td>5.353800</td>\n      <td>0.0</td>\n    </tr>\n    <tr>\n      <th>4478</th>\n      <td>2021-01-28</td>\n      <td>5.411900</td>\n      <td>5.4541</td>\n      <td>5.388964</td>\n      <td>5.412600</td>\n      <td>5.412600</td>\n      <td>0.0</td>\n    </tr>\n    <tr>\n      <th>4479</th>\n      <td>2021-01-29</td>\n      <td>5.437484</td>\n      <td>5.5037</td>\n      <td>5.411807</td>\n      <td>5.437989</td>\n      <td>5.437989</td>\n      <td>0.0</td>\n    </tr>\n    <tr>\n      <th>4480</th>\n      <td>2021-02-01</td>\n      <td>5.460800</td>\n      <td>5.4825</td>\n      <td>5.417943</td>\n      <td>5.460800</td>\n      <td>5.460800</td>\n      <td>0.0</td>\n    </tr>\n    <tr>\n      <th>4481</th>\n      <td>2021-02-02</td>\n      <td>5.432200</td>\n      <td>5.4597</td>\n      <td>5.342200</td>\n      <td>5.362900</td>\n      <td>5.362900</td>\n      <td>0.0</td>\n    </tr>\n  </tbody>\n</table>\n</div>"
          },
          "metadata": {},
          "execution_count": 8
        }
      ],
      "source": [
        "#Mostrar as 5 últimas entradas do DataFrame\n",
        "df.tail()"
      ]
    },
    {
      "source": [
        "Como pode ser visto, realmente a forma de apresentação dos dados é tabular, o que é mais amigável para os nossos olhos por ser um formato que estamos habituados de enxergar. "
      ],
      "cell_type": "markdown",
      "metadata": {}
    },
    {
      "source": [
        "Há alguns casos que é necessário extrair o nome de todas as colunas do *DataFrame*, para isso basta utilizar o seguinte método:"
      ],
      "cell_type": "markdown",
      "metadata": {}
    },
    {
      "cell_type": "code",
      "execution_count": 9,
      "metadata": {},
      "outputs": [
        {
          "output_type": "execute_result",
          "data": {
            "text/plain": [
              "Index(['Date', 'Open', 'High', 'Low', 'Close', 'Adj Close', 'Volume'], dtype='object')"
            ]
          },
          "metadata": {},
          "execution_count": 9
        }
      ],
      "source": [
        "#Ver os nomes da colunas\n",
        "df.columns"
      ]
    },
    {
      "source": [
        "Um fator essencial ao analisar os dados é saber qual o tipo de variável em cada coluna. Os tipos são os mais diversos como:\n",
        "\n",
        "* `float`: Números não inteiros, exemplos: 4.5, 6.7, 10.0;\n",
        "* `int`: Números inteiros, exemplos: 8, 12;\n",
        "* `string`: É entendido como palavras ou textos, mas pode ser números também (caso sejam números caracterizados como *string* não será possível fazer operações com eles), exemplos: 'Renata', 'animal', 'R$ 15,6';\n",
        "* `datetime`: Numeros em formato de datas, exemplos: 30-01-2020, 25/12/2019 15:55:00.\n",
        "\n",
        "É importante saber qual o tipo porque esses dados serão manipulados depois para obter os resultados desejados na análise, ao saber o tipo sabe-se como lidar com os dados, se é necessário modificar o seu tipo, sabe-se o que é possível fazer com eles. "
      ],
      "cell_type": "markdown",
      "metadata": {}
    },
    {
      "cell_type": "code",
      "execution_count": 10,
      "metadata": {},
      "outputs": [
        {
          "output_type": "execute_result",
          "data": {
            "text/plain": [
              "Date          object\n",
              "Open         float64\n",
              "High         float64\n",
              "Low          float64\n",
              "Close        float64\n",
              "Adj Close    float64\n",
              "Volume       float64\n",
              "dtype: object"
            ]
          },
          "metadata": {},
          "execution_count": 10
        }
      ],
      "source": [
        "#Conhecer o tipo de variável de cada coluna\n",
        "df.dtypes"
      ]
    },
    {
      "source": [
        "Outra forma de descobrir o tipo das variáveis é utilizando a função `dados.info()`, essa função é mais completa do que a que foi utilizada anteriormente.\n",
        "\n",
        "A saída da função apresenta três colunas:\n",
        "\n",
        "* Column: Mostra o nome da coluna do conjunto de dados;\n",
        "* Non-Null Count: Mostra quantos valores não nulos há em cada coluna. É de grande importância saber quantos dados estão ausentes para decidir o que será feito em relação a eles.\n",
        "* Dtype: Tipo dos dados da coluna."
      ],
      "cell_type": "markdown",
      "metadata": {}
    },
    {
      "cell_type": "code",
      "execution_count": 11,
      "metadata": {},
      "outputs": [
        {
          "output_type": "stream",
          "name": "stdout",
          "text": [
            "<class 'pandas.core.frame.DataFrame'>\nRangeIndex: 4482 entries, 0 to 4481\nData columns (total 7 columns):\n #   Column     Non-Null Count  Dtype  \n---  ------     --------------  -----  \n 0   Date       4482 non-null   object \n 1   Open       4015 non-null   float64\n 2   High       4015 non-null   float64\n 3   Low        4015 non-null   float64\n 4   Close      4015 non-null   float64\n 5   Adj Close  4015 non-null   float64\n 6   Volume     4015 non-null   float64\ndtypes: float64(6), object(1)\nmemory usage: 245.2+ KB\n"
          ]
        }
      ],
      "source": [
        "df.info()"
      ]
    },
    {
      "source": [
        "Ao observar a resposta gerada percebe-se que apenas a coluna \"*date* \" possui todos os dados presentes, as demais possuem mais de 400 dados ausentes."
      ],
      "cell_type": "markdown",
      "metadata": {}
    },
    {
      "source": [
        "## Selecionando Colunas\n",
        "\n",
        "Muitas vezes será necessário obter apenas parte das colunas do conjunto inteiro, para isso há duas formas de selecionar apenas uma (s) coluna (s):"
      ],
      "cell_type": "markdown",
      "metadata": {}
    },
    {
      "cell_type": "code",
      "execution_count": 12,
      "metadata": {},
      "outputs": [
        {
          "output_type": "execute_result",
          "data": {
            "text/plain": [
              "0       2.9460\n",
              "1       2.9310\n",
              "2       2.9360\n",
              "3       2.9430\n",
              "4       2.9480\n",
              "         ...  \n",
              "4477    5.4173\n",
              "4478    5.4541\n",
              "4479    5.5037\n",
              "4480    5.4825\n",
              "4481    5.4597\n",
              "Name: High, Length: 4482, dtype: float64"
            ]
          },
          "metadata": {},
          "execution_count": 12
        }
      ],
      "source": [
        "#Selecionar a variável (coluna) \"High\" da nossa variável df\n",
        "df['High']"
      ]
    },
    {
      "cell_type": "code",
      "execution_count": 13,
      "metadata": {},
      "outputs": [
        {
          "output_type": "execute_result",
          "data": {
            "text/plain": [
              "0       2.9460\n",
              "1       2.9310\n",
              "2       2.9360\n",
              "3       2.9430\n",
              "4       2.9480\n",
              "         ...  \n",
              "4477    5.4173\n",
              "4478    5.4541\n",
              "4479    5.5037\n",
              "4480    5.4825\n",
              "4481    5.4597\n",
              "Name: High, Length: 4482, dtype: float64"
            ]
          },
          "metadata": {},
          "execution_count": 13
        }
      ],
      "source": [
        "#Segunda forma de selecionar a variável (coluna) \"High\" de outra foma\n",
        "df.High"
      ]
    },
    {
      "source": [
        "Essa segunda forma de selecionar a coluna é mais rápida e mais enxuta, porém não é sempre que pode utilizar ela, quando o nome da variável tiver espaços em branco ou caracteres especiais não será possível utilizá-la pois dará erro."
      ],
      "cell_type": "markdown",
      "metadata": {}
    },
    {
      "source": [
        "## Calculando a média de uma coluna \n",
        "\n",
        "Para calcular a média de uma coluna basta chamar essa coluna, conforme feito anteriormente, e utilizar a função `.mean()`."
      ],
      "cell_type": "markdown",
      "metadata": {}
    },
    {
      "cell_type": "code",
      "execution_count": 14,
      "metadata": {},
      "outputs": [
        {
          "output_type": "execute_result",
          "data": {
            "text/plain": [
              "2.758473834122052"
            ]
          },
          "metadata": {},
          "execution_count": 14
        }
      ],
      "source": [
        "#Calcular a média da coluna \"High\"\n",
        "df.High.mean()"
      ]
    },
    {
      "source": [
        "## Trabalhando com Datas (`datetime`)\n",
        "\n",
        "Na maior parte das vezes que for importado um arquivo que tenha datas o Pandas não irá reconhecer automaticamente que são datas, para resolver isso basta fazer a conversão para ***DateTime***."
      ],
      "cell_type": "markdown",
      "metadata": {}
    },
    {
      "cell_type": "code",
      "execution_count": 15,
      "metadata": {},
      "outputs": [
        {
          "output_type": "execute_result",
          "data": {
            "text/plain": [
              "0       2003-12-01\n",
              "1       2003-12-02\n",
              "2       2003-12-03\n",
              "3       2003-12-04\n",
              "4       2003-12-05\n",
              "           ...    \n",
              "4477    2021-01-27\n",
              "4478    2021-01-28\n",
              "4479    2021-01-29\n",
              "4480    2021-02-01\n",
              "4481    2021-02-02\n",
              "Name: Date, Length: 4482, dtype: object"
            ]
          },
          "metadata": {},
          "execution_count": 15
        }
      ],
      "source": [
        "#Antes\n",
        "df.Date"
      ]
    },
    {
      "source": [
        "É visto em ***dtype*** que a coluna *Date* é um *object* e não **DateTime**, para fazer a conversão basta utilizar `pd.to_datetime()`.\n",
        "\n",
        "Dentro da função é necessário fornecer o formato (*format*) que a data está, há diversas formas que as datas podem ser apresentadas, como por exemplo:\n",
        "\n",
        "* 31/12/2020\n",
        "* 31/12/20\n",
        "* 31-6-20\n",
        "* 2020-12-31\n",
        "* 31 de dezembro de 2020\n",
        "\n",
        "Para saber qual a forma certa para fornecer os na função é necessário analisar como os dados estão apresentados e como será o fornecimento dessa informação, para isso tem que entender a documentação. Links úteis:\n",
        "\n",
        "* [https://docs.python.org/3/library/datetime.html#strftime-and-strptime-behavior](https://docs.python.org/3/library/datetime.html#strftime-and-strptime-behavior)\n",
        "* [https://pandas.pydata.org/docs/reference/api/pandas.to_datetime.html?highlight=to_datetime#pandas.to_datetime](https://pandas.pydata.org/docs/reference/api/pandas.to_datetime.html?highlight=to_datetime#pandas.to_datetime)\n",
        "\n"
      ],
      "cell_type": "markdown",
      "metadata": {}
    },
    {
      "cell_type": "code",
      "execution_count": 16,
      "metadata": {},
      "outputs": [],
      "source": [
        "#Converter coluna Date em datetime\n",
        "df.Date = pd.to_datetime(df.Date, format='%Y-%m-%d')"
      ]
    },
    {
      "cell_type": "code",
      "execution_count": 17,
      "metadata": {},
      "outputs": [
        {
          "output_type": "execute_result",
          "data": {
            "text/plain": [
              "0      2003-12-01\n",
              "1      2003-12-02\n",
              "2      2003-12-03\n",
              "3      2003-12-04\n",
              "4      2003-12-05\n",
              "          ...    \n",
              "4477   2021-01-27\n",
              "4478   2021-01-28\n",
              "4479   2021-01-29\n",
              "4480   2021-02-01\n",
              "4481   2021-02-02\n",
              "Name: Date, Length: 4482, dtype: datetime64[ns]"
            ]
          },
          "metadata": {},
          "execution_count": 17
        }
      ],
      "source": [
        "df.Date"
      ]
    },
    {
      "source": [
        "A conversão é útil pois com ela é possível acessar cada data individualmente usando `df.Date.dt.`"
      ],
      "cell_type": "markdown",
      "metadata": {}
    },
    {
      "cell_type": "code",
      "execution_count": 18,
      "metadata": {},
      "outputs": [
        {
          "output_type": "execute_result",
          "data": {
            "text/plain": [
              "0       2003\n",
              "1       2003\n",
              "2       2003\n",
              "3       2003\n",
              "4       2003\n",
              "        ... \n",
              "4477    2021\n",
              "4478    2021\n",
              "4479    2021\n",
              "4480    2021\n",
              "4481    2021\n",
              "Name: Date, Length: 4482, dtype: int64"
            ]
          },
          "metadata": {},
          "execution_count": 18
        }
      ],
      "source": [
        "#Ano\n",
        "df.Date.dt.year"
      ]
    },
    {
      "cell_type": "code",
      "execution_count": 19,
      "metadata": {},
      "outputs": [
        {
          "output_type": "execute_result",
          "data": {
            "text/plain": [
              "0       12\n",
              "1       12\n",
              "2       12\n",
              "3       12\n",
              "4       12\n",
              "        ..\n",
              "4477     1\n",
              "4478     1\n",
              "4479     1\n",
              "4480     2\n",
              "4481     2\n",
              "Name: Date, Length: 4482, dtype: int64"
            ]
          },
          "metadata": {},
          "execution_count": 19
        }
      ],
      "source": [
        "#Mês\n",
        "df.Date.dt.month"
      ]
    },
    {
      "cell_type": "code",
      "execution_count": 20,
      "metadata": {},
      "outputs": [
        {
          "output_type": "execute_result",
          "data": {
            "text/plain": [
              "0        1\n",
              "1        2\n",
              "2        3\n",
              "3        4\n",
              "4        5\n",
              "        ..\n",
              "4477    27\n",
              "4478    28\n",
              "4479    29\n",
              "4480     1\n",
              "4481     2\n",
              "Name: Date, Length: 4482, dtype: int64"
            ]
          },
          "metadata": {},
          "execution_count": 20
        }
      ],
      "source": [
        "#Dia\n",
        "df.Date.dt.day"
      ]
    },
    {
      "cell_type": "code",
      "execution_count": 21,
      "metadata": {},
      "outputs": [
        {
          "output_type": "execute_result",
          "data": {
            "text/plain": [
              "0       0\n",
              "1       1\n",
              "2       2\n",
              "3       3\n",
              "4       4\n",
              "       ..\n",
              "4477    2\n",
              "4478    3\n",
              "4479    4\n",
              "4480    0\n",
              "4481    1\n",
              "Name: Date, Length: 4482, dtype: int64"
            ]
          },
          "metadata": {},
          "execution_count": 21
        }
      ],
      "source": [
        "#Dia da semana\n",
        "df.Date.dt.weekday"
      ]
    },
    {
      "cell_type": "code",
      "execution_count": 22,
      "metadata": {},
      "outputs": [
        {
          "output_type": "execute_result",
          "data": {
            "text/plain": [
              "0       49\n",
              "1       49\n",
              "2       49\n",
              "3       49\n",
              "4       49\n",
              "        ..\n",
              "4477     4\n",
              "4478     4\n",
              "4479     4\n",
              "4480     5\n",
              "4481     5\n",
              "Name: Date, Length: 4482, dtype: int64"
            ]
          },
          "metadata": {},
          "execution_count": 22
        }
      ],
      "source": [
        "#semana do ano\n",
        "df.Date.dt.weekofyear"
      ]
    },
    {
      "source": [
        "## Conclusão\n",
        "\n",
        "Esse foi um pequeno tutorial sobre o Pandas, como pôde ser visto a sua aplicação é muito grande e por isso que essa biblioteca é tão útil para análise de dados."
      ],
      "cell_type": "markdown",
      "metadata": {}
    }
  ]
}