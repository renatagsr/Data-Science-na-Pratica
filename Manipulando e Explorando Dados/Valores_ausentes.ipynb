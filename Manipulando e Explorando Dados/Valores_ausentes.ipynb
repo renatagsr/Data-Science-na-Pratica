{
 "metadata": {
  "language_info": {
   "codemirror_mode": {
    "name": "ipython",
    "version": 3
   },
   "file_extension": ".py",
   "mimetype": "text/x-python",
   "name": "python",
   "nbconvert_exporter": "python",
   "pygments_lexer": "ipython3",
   "version": "3.8.5-final"
  },
  "orig_nbformat": 2,
  "kernelspec": {
   "name": "python3",
   "display_name": "Python 3",
   "language": "python"
  }
 },
 "nbformat": 4,
 "nbformat_minor": 2,
 "cells": [
  {
   "source": [
    "# Valores Ausentes"
   ],
   "cell_type": "markdown",
   "metadata": {}
  },
  {
   "cell_type": "code",
   "execution_count": 1,
   "metadata": {},
   "outputs": [
    {
     "output_type": "execute_result",
     "data": {
      "text/plain": [
       "  user_gender user_birthdate  ... ride_duration ride_late\n",
       "0           M     1971-06-08  ...     16.250000       0.0\n",
       "1           M     1989-02-11  ...      5.266667       0.0\n",
       "2           M     1968-07-19  ...     15.400000       0.0\n",
       "3           M     1991-12-19  ...      5.866667       0.0\n",
       "4           M     1969-03-03  ...    641.133333       1.0\n",
       "\n",
       "[5 rows x 10 columns]"
      ],
      "text/html": "<div>\n<style scoped>\n    .dataframe tbody tr th:only-of-type {\n        vertical-align: middle;\n    }\n\n    .dataframe tbody tr th {\n        vertical-align: top;\n    }\n\n    .dataframe thead th {\n        text-align: right;\n    }\n</style>\n<table border=\"1\" class=\"dataframe\">\n  <thead>\n    <tr style=\"text-align: right;\">\n      <th></th>\n      <th>user_gender</th>\n      <th>user_birthdate</th>\n      <th>user_residence</th>\n      <th>ride_date</th>\n      <th>time_start</th>\n      <th>time_end</th>\n      <th>station_start</th>\n      <th>station_end</th>\n      <th>ride_duration</th>\n      <th>ride_late</th>\n    </tr>\n  </thead>\n  <tbody>\n    <tr>\n      <th>0</th>\n      <td>M</td>\n      <td>1971-06-08</td>\n      <td>NaN</td>\n      <td>2018-01-01</td>\n      <td>06:05:18</td>\n      <td>06:21:33</td>\n      <td>11 - Rodoviária 2</td>\n      <td>41 - Instituto de Artes</td>\n      <td>16.250000</td>\n      <td>0.0</td>\n    </tr>\n    <tr>\n      <th>1</th>\n      <td>M</td>\n      <td>1989-02-11</td>\n      <td>DF</td>\n      <td>2018-01-01</td>\n      <td>06:27:01</td>\n      <td>06:32:17</td>\n      <td>26 - Ministério da Saude</td>\n      <td>28 - CNMP - Conselho Nacional do Ministério Pú...</td>\n      <td>5.266667</td>\n      <td>0.0</td>\n    </tr>\n    <tr>\n      <th>2</th>\n      <td>M</td>\n      <td>1968-07-19</td>\n      <td>NaN</td>\n      <td>2018-01-01</td>\n      <td>06:29:33</td>\n      <td>06:44:57</td>\n      <td>11 - Rodoviária 2</td>\n      <td>43 - Biblioteca Central</td>\n      <td>15.400000</td>\n      <td>0.0</td>\n    </tr>\n    <tr>\n      <th>3</th>\n      <td>M</td>\n      <td>1991-12-19</td>\n      <td>NaN</td>\n      <td>2018-01-01</td>\n      <td>06:53:53</td>\n      <td>06:59:45</td>\n      <td>10 - Ministério dos Transportes</td>\n      <td>6 - Rodoviária</td>\n      <td>5.866667</td>\n      <td>0.0</td>\n    </tr>\n    <tr>\n      <th>4</th>\n      <td>M</td>\n      <td>1969-03-03</td>\n      <td>DF</td>\n      <td>2018-01-01</td>\n      <td>06:58:56</td>\n      <td>17:40:04</td>\n      <td>15 - Brasil 21</td>\n      <td>11 - Rodoviária 2</td>\n      <td>641.133333</td>\n      <td>1.0</td>\n    </tr>\n  </tbody>\n</table>\n</div>"
     },
     "metadata": {},
     "execution_count": 1
    }
   ],
   "source": [
    "DATA_PATH = \"http://dl.dropboxusercontent.com/s/yyfeoxqw61o3iel/df_rides.csv\"\n",
    "\n",
    "#Importar pacotes necessários\n",
    "import pandas as pd\n",
    "\n",
    "#Importar o dataset\n",
    "df = pd.read_csv(DATA_PATH)\n",
    "\n",
    "#Ver as primeiras entradas\n",
    "df.head()"
   ]
  },
  {
   "source": [
    "## Identificando os Valores Ausentes\n"
   ],
   "cell_type": "markdown",
   "metadata": {}
  },
  {
   "cell_type": "code",
   "execution_count": 3,
   "metadata": {},
   "outputs": [
    {
     "output_type": "execute_result",
     "data": {
      "text/plain": [
       "user_gender          396\n",
       "user_birthdate         1\n",
       "user_residence    179905\n",
       "ride_date              0\n",
       "time_start             0\n",
       "time_end           43285\n",
       "station_start          0\n",
       "station_end            0\n",
       "ride_duration      73174\n",
       "ride_late          73174\n",
       "dtype: int64"
      ]
     },
     "metadata": {},
     "execution_count": 3
    }
   ],
   "source": [
    "#Ver a quantidade de valores ausentes\n",
    "df.isnull().sum()"
   ]
  },
  {
   "cell_type": "code",
   "execution_count": 4,
   "metadata": {},
   "outputs": [
    {
     "output_type": "execute_result",
     "data": {
      "text/plain": [
       "user_gender       0.001378\n",
       "user_birthdate    0.000003\n",
       "user_residence    0.626144\n",
       "ride_date         0.000000\n",
       "time_start        0.000000\n",
       "time_end          0.150650\n",
       "station_start     0.000000\n",
       "station_end       0.000000\n",
       "ride_duration     0.254676\n",
       "ride_late         0.254676\n",
       "dtype: float64"
      ]
     },
     "metadata": {},
     "execution_count": 4
    }
   ],
   "source": [
    "#Ver a porcentagem de valores ausentes\n",
    "df.isnull().sum() / df.shape[0]"
   ]
  },
  {
   "source": [
    "## Excluir valores ausentes"
   ],
   "cell_type": "markdown",
   "metadata": {}
  },
  {
   "cell_type": "code",
   "execution_count": 6,
   "metadata": {},
   "outputs": [
    {
     "output_type": "stream",
     "name": "stdout",
     "text": [
      "Antes:\t(287322, 10)\nDepois:\t(286926, 10)\n"
     ]
    }
   ],
   "source": [
    "#Elinar todas as entradas onde existem valores ausentes em \"user_gender\"\n",
    "df_clean = df.dropna(subset=['user_gender'], axis=0)\n",
    "\n",
    "#Comparar o antes e o depois\n",
    "print('Antes:\\t{}'.format(df.shape))\n",
    "print('Depois:\\t{}'.format(df_clean.shape))"
   ]
  },
  {
   "source": [
    "## Preencher valores"
   ],
   "cell_type": "markdown",
   "metadata": {}
  },
  {
   "cell_type": "code",
   "execution_count": 7,
   "metadata": {},
   "outputs": [
    {
     "output_type": "execute_result",
     "data": {
      "text/plain": [
       "user_gender            0\n",
       "user_birthdate         1\n",
       "user_residence    179818\n",
       "ride_date              0\n",
       "time_start             0\n",
       "time_end           43212\n",
       "station_start          0\n",
       "station_end            0\n",
       "ride_duration      73064\n",
       "ride_late          73064\n",
       "dtype: int64"
      ]
     },
     "metadata": {},
     "execution_count": 7
    }
   ],
   "source": [
    "#Antes\n",
    "df_clean.isnull().sum()"
   ]
  },
  {
   "cell_type": "code",
   "execution_count": 8,
   "metadata": {},
   "outputs": [
    {
     "output_type": "execute_result",
     "data": {
      "text/plain": [
       "user_gender            0\n",
       "user_birthdate         1\n",
       "user_residence    179818\n",
       "ride_date              0\n",
       "time_start             0\n",
       "time_end           43212\n",
       "station_start          0\n",
       "station_end            0\n",
       "ride_duration          0\n",
       "ride_late          73064\n",
       "dtype: int64"
      ]
     },
     "metadata": {},
     "execution_count": 8
    }
   ],
   "source": [
    "#Preencher valores ausentes em 'ride_duration' com a mediana\n",
    "rd_median = df_clean.ride_duration.median()\n",
    "df_clean = df_clean.fillna({'ride_duration': rd_median})\n",
    "\n",
    "#Ver valores ausentes\n",
    "df_clean.isnull().sum()"
   ]
  },
  {
   "cell_type": "code",
   "execution_count": 9,
   "metadata": {},
   "outputs": [
    {
     "output_type": "execute_result",
     "data": {
      "text/plain": [
       "user_gender          396\n",
       "user_birthdate         1\n",
       "user_residence    179905\n",
       "ride_date              0\n",
       "time_start             0\n",
       "time_end           43285\n",
       "station_start          0\n",
       "station_end            0\n",
       "ride_duration      73174\n",
       "ride_late          73174\n",
       "dtype: int64"
      ]
     },
     "metadata": {},
     "execution_count": 9
    }
   ],
   "source": [
    "#Copiar novamente\n",
    "df_clean = df.copy()\n",
    "\n",
    "#Ver valores ausentes\n",
    "df_clean.isnull().sum()"
   ]
  },
  {
   "cell_type": "code",
   "execution_count": 10,
   "metadata": {},
   "outputs": [
    {
     "output_type": "execute_result",
     "data": {
      "text/plain": [
       "M    212608\n",
       "F     74318\n",
       "Name: user_gender, dtype: int64"
      ]
     },
     "metadata": {},
     "execution_count": 10
    }
   ],
   "source": [
    "#Ver o valor mais frequente\n",
    "df_clean.user_gender.value_counts()"
   ]
  },
  {
   "cell_type": "code",
   "execution_count": 11,
   "metadata": {},
   "outputs": [
    {
     "output_type": "execute_result",
     "data": {
      "text/plain": [
       "user_gender            0\n",
       "user_birthdate         1\n",
       "user_residence    179905\n",
       "ride_date              0\n",
       "time_start             0\n",
       "time_end           43285\n",
       "station_start          0\n",
       "station_end            0\n",
       "ride_duration      73174\n",
       "ride_late          73174\n",
       "dtype: int64"
      ]
     },
     "metadata": {},
     "execution_count": 11
    }
   ],
   "source": [
    "#PReencher os valores ausentes de user_gender com 'M'\n",
    "df_clean = df_clean.fillna({'user_gender': 'M'})\n",
    "\n",
    "#Ver valores ausentes\n",
    "df_clean.isnull().sum()"
   ]
  },
  {
   "cell_type": "code",
   "execution_count": null,
   "metadata": {},
   "outputs": [],
   "source": []
  }
 ]
}