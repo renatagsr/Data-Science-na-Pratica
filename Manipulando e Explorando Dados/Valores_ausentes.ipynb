{
 "metadata": {
  "language_info": {
   "codemirror_mode": {
    "name": "ipython",
    "version": 3
   },
   "file_extension": ".py",
   "mimetype": "text/x-python",
   "name": "python",
   "nbconvert_exporter": "python",
   "pygments_lexer": "ipython3",
   "version": "3.8.5-final"
  },
  "orig_nbformat": 2,
  "kernelspec": {
   "name": "python3",
   "display_name": "Python 3",
   "language": "python"
  }
 },
 "nbformat": 4,
 "nbformat_minor": 2,
 "cells": [
  {
   "source": [
    "# Valores Ausentes\n",
    "\n",
    "Hoje, modelos de *Machine Learning* não são capazes de identificar dados ausentes, mas se esses dados ainda estiverem no modelo poderá haver falhas ou pode não gerar um resultado tão preciso. Portanto, para rodar um modelo é necessário fazer a limpeza dos dados anteriormente, durante a limpeza serão identificados os dados ausentes. Um dos maiores problemas na hora de fazer a análise exploratória e a limpeza de dados são os dados ausentes. \n",
    "\n",
    "A falta de informação pode ser porque um usuário deixou de preencheer um dos dados ou preencheu de forma incorreta, os dados podem ter sido corrompidos, os dados podem não existir de fato, entre outros motivos. \n",
    "\n",
    "Quando há dados ausentes uma dúvida sempre reina: excluir os dados, completar eles ou ignorar? Qual a melhor opção? \n",
    "Pode-se pensar que a melhor opção é remover os dados que estão ausentes, já que como eles não existem mesmo (em teoria) não irão fazer falta, mas a verdade é que é difícil fornecer uma solução geral, irá depender de cada conjunto de dados. Pode ser que a exclusão dos dados ausentes realmente seja a melhor opção ou pode ser que essa exclusão faça com que na verdade perca dados que são importantes para a análise, então a melhor opção seria completar esses dados seja através da utilização de métodos estatísticos ou indo atrás dos dados que não estão presentes.\n",
    "\n",
    "O que é recomendado para todos os conjuntos de dados que há valores ausentes é entender o porquê eles estão ausentes, dessa forma ficará fácil saber qual atitude deverá ser tomada em relação a eles. \n",
    "\n",
    "Dito isso, nesse *notebook* serão utilizadas algumas técnicas para poder lidar com valores ausentes. \n",
    "\n",
    "A base de dados utilizadas é do [Projeto Bike](http://www.maisbikecompartilhada.com.br/)."
   ],
   "cell_type": "markdown",
   "metadata": {}
  },
  {
   "cell_type": "code",
   "execution_count": 1,
   "metadata": {},
   "outputs": [
    {
     "output_type": "execute_result",
     "data": {
      "text/plain": [
       "  user_gender user_birthdate user_residence   ride_date time_start  time_end  \\\n",
       "0           M     1971-06-08            NaN  2018-01-01   06:05:18  06:21:33   \n",
       "1           M     1989-02-11             DF  2018-01-01   06:27:01  06:32:17   \n",
       "2           M     1968-07-19            NaN  2018-01-01   06:29:33  06:44:57   \n",
       "3           M     1991-12-19            NaN  2018-01-01   06:53:53  06:59:45   \n",
       "4           M     1969-03-03             DF  2018-01-01   06:58:56  17:40:04   \n",
       "\n",
       "                     station_start  \\\n",
       "0                11 - Rodoviária 2   \n",
       "1         26 - Ministério da Saude   \n",
       "2                11 - Rodoviária 2   \n",
       "3  10 - Ministério dos Transportes   \n",
       "4                   15 - Brasil 21   \n",
       "\n",
       "                                         station_end  ride_duration  ride_late  \n",
       "0                            41 - Instituto de Artes      16.250000        0.0  \n",
       "1  28 - CNMP - Conselho Nacional do Ministério Pú...       5.266667        0.0  \n",
       "2                            43 - Biblioteca Central      15.400000        0.0  \n",
       "3                                     6 - Rodoviária       5.866667        0.0  \n",
       "4                                  11 - Rodoviária 2     641.133333        1.0  "
      ],
      "text/html": "<div>\n<style scoped>\n    .dataframe tbody tr th:only-of-type {\n        vertical-align: middle;\n    }\n\n    .dataframe tbody tr th {\n        vertical-align: top;\n    }\n\n    .dataframe thead th {\n        text-align: right;\n    }\n</style>\n<table border=\"1\" class=\"dataframe\">\n  <thead>\n    <tr style=\"text-align: right;\">\n      <th></th>\n      <th>user_gender</th>\n      <th>user_birthdate</th>\n      <th>user_residence</th>\n      <th>ride_date</th>\n      <th>time_start</th>\n      <th>time_end</th>\n      <th>station_start</th>\n      <th>station_end</th>\n      <th>ride_duration</th>\n      <th>ride_late</th>\n    </tr>\n  </thead>\n  <tbody>\n    <tr>\n      <th>0</th>\n      <td>M</td>\n      <td>1971-06-08</td>\n      <td>NaN</td>\n      <td>2018-01-01</td>\n      <td>06:05:18</td>\n      <td>06:21:33</td>\n      <td>11 - Rodoviária 2</td>\n      <td>41 - Instituto de Artes</td>\n      <td>16.250000</td>\n      <td>0.0</td>\n    </tr>\n    <tr>\n      <th>1</th>\n      <td>M</td>\n      <td>1989-02-11</td>\n      <td>DF</td>\n      <td>2018-01-01</td>\n      <td>06:27:01</td>\n      <td>06:32:17</td>\n      <td>26 - Ministério da Saude</td>\n      <td>28 - CNMP - Conselho Nacional do Ministério Pú...</td>\n      <td>5.266667</td>\n      <td>0.0</td>\n    </tr>\n    <tr>\n      <th>2</th>\n      <td>M</td>\n      <td>1968-07-19</td>\n      <td>NaN</td>\n      <td>2018-01-01</td>\n      <td>06:29:33</td>\n      <td>06:44:57</td>\n      <td>11 - Rodoviária 2</td>\n      <td>43 - Biblioteca Central</td>\n      <td>15.400000</td>\n      <td>0.0</td>\n    </tr>\n    <tr>\n      <th>3</th>\n      <td>M</td>\n      <td>1991-12-19</td>\n      <td>NaN</td>\n      <td>2018-01-01</td>\n      <td>06:53:53</td>\n      <td>06:59:45</td>\n      <td>10 - Ministério dos Transportes</td>\n      <td>6 - Rodoviária</td>\n      <td>5.866667</td>\n      <td>0.0</td>\n    </tr>\n    <tr>\n      <th>4</th>\n      <td>M</td>\n      <td>1969-03-03</td>\n      <td>DF</td>\n      <td>2018-01-01</td>\n      <td>06:58:56</td>\n      <td>17:40:04</td>\n      <td>15 - Brasil 21</td>\n      <td>11 - Rodoviária 2</td>\n      <td>641.133333</td>\n      <td>1.0</td>\n    </tr>\n  </tbody>\n</table>\n</div>"
     },
     "metadata": {},
     "execution_count": 1
    }
   ],
   "source": [
    "DATA_PATH = \"http://dl.dropboxusercontent.com/s/yyfeoxqw61o3iel/df_rides.csv\"\n",
    "\n",
    "#Importar pacotes necessários\n",
    "import pandas as pd\n",
    "\n",
    "#Importar o dataset\n",
    "df = pd.read_csv(DATA_PATH)\n",
    "\n",
    "#Ver as primeiras entradas\n",
    "df.head()"
   ]
  },
  {
   "source": [
    "## Identificando os Valores Ausentes\n",
    "\n",
    "Para identificar os valores ausentes será utilizada a função `isnull()` juntamente com a função `sum()`. A soma será útil para que se saiba quantos valores nulos há em cada coluna, como a função `isnull()` gera respostas de True (1) e False(0) a resposta será exatamente uma contagem de valores nulos presentes em cada uma das colunas."
   ],
   "cell_type": "markdown",
   "metadata": {}
  },
  {
   "cell_type": "code",
   "execution_count": 2,
   "metadata": {},
   "outputs": [
    {
     "output_type": "execute_result",
     "data": {
      "text/plain": [
       "user_gender          396\n",
       "user_birthdate         1\n",
       "user_residence    179905\n",
       "ride_date              0\n",
       "time_start             0\n",
       "time_end           43285\n",
       "station_start          0\n",
       "station_end            0\n",
       "ride_duration      73174\n",
       "ride_late          73174\n",
       "dtype: int64"
      ]
     },
     "metadata": {},
     "execution_count": 2
    }
   ],
   "source": [
    "#Ver a quantidade de valores ausentes\n",
    "df.isnull().sum()"
   ]
  },
  {
   "cell_type": "code",
   "execution_count": 3,
   "metadata": {},
   "outputs": [
    {
     "output_type": "stream",
     "name": "stdout",
     "text": [
      "A porcentagem dos valores ausentes é:\n"
     ]
    },
    {
     "output_type": "execute_result",
     "data": {
      "text/plain": [
       "user_gender        0.137824\n",
       "user_birthdate     0.000348\n",
       "user_residence    62.614419\n",
       "ride_date          0.000000\n",
       "time_start         0.000000\n",
       "time_end          15.064979\n",
       "station_start      0.000000\n",
       "station_end        0.000000\n",
       "ride_duration     25.467594\n",
       "ride_late         25.467594\n",
       "dtype: float64"
      ]
     },
     "metadata": {},
     "execution_count": 3
    }
   ],
   "source": [
    "#Ver a porcentagem de valores ausentes\n",
    "print('A porcentagem dos valores ausentes é:')\n",
    "(df.isnull().sum() / df.shape[0]) * 100"
   ]
  },
  {
   "source": [
    "Percebe-se que a coluna `user_residence` possui mais de 62% de valores ausentes. Além dessa coluna há três outras que apresentam uma quantidade significativa de ausência de dados: `time_end`, `ride_duration`, `ride_late`."
   ],
   "cell_type": "markdown",
   "metadata": {}
  },
  {
   "source": [
    "## Excluir valores ausentes\n",
    "\n",
    "Normalmente essa é a primeira opção quando se está lidando com valores nulos no *Data Frame*, mas como dito anteriormente nem sempre essa é a melhor escolha porque ao eliminar os dados de uma única célula eliminará, também, dados existentes em outras colunas. A opção de exclusão de dados deverá ser considerada quando há uma pequena quantidade de dados ausentes a ponto de não ter representatividade no *Data set*. \n",
    "\n",
    "A exclusão pode ser feita tanto de linhas com os valores nulos, tanto de colunas inteiras. Para que o *Pandas* entenda qual das duas opções está sendo utilizada é necessário fornecer `axis = 0` quando quer eliminar linhas e `axis = 1` quando o que se quer eliminar são colunas. Essa informação é dada dentro do método `dropna()`."
   ],
   "cell_type": "markdown",
   "metadata": {}
  },
  {
   "cell_type": "code",
   "execution_count": 4,
   "metadata": {},
   "outputs": [
    {
     "output_type": "stream",
     "name": "stdout",
     "text": [
      "Antes:\t(287322, 10)\nDepois:\t(286926, 10)\n"
     ]
    }
   ],
   "source": [
    "#Eliminar todas as entradas onde existem valores ausentes em \"user_gender\"\n",
    "df_clean = df.dropna(subset=['user_gender'], axis=0)\n",
    "\n",
    "#Comparar o antes e o depois\n",
    "print('Antes:\\t{}'.format(df.shape))\n",
    "print('Depois:\\t{}'.format(df_clean.shape))"
   ]
  },
  {
   "source": [
    "## Preencher valores\n",
    "\n",
    "Normalmente, o preenchimento de valores é a melhor opção pois ela permite que mantenha dados existentes em outras células. \n",
    "\n",
    "Quando se opta por preencher dados uma pergunta é muito recorrente: \"Com o que será feito o preenchimento desses dados?\". A resposta é: depende. \n",
    "\n",
    "Há diversas técnicas, como utilizar o valor mais frequente, a média, media, há até técnicas mais avançadas que utilizam modelos de *Machine Learning* para que seja dito qual valor usar nos campos ausentes. A decisão dependerá de cada conjunto de dados e dos recursos disponíveis.\n",
    "\n",
    "Será utilziada a técnica da mediana para preencher os campos ausentes da coluna `ride_duration`, utilizando a função `fillna()`."
   ],
   "cell_type": "markdown",
   "metadata": {}
  },
  {
   "cell_type": "code",
   "execution_count": 5,
   "metadata": {},
   "outputs": [
    {
     "output_type": "execute_result",
     "data": {
      "text/plain": [
       "user_gender            0\n",
       "user_birthdate         1\n",
       "user_residence    179818\n",
       "ride_date              0\n",
       "time_start             0\n",
       "time_end           43212\n",
       "station_start          0\n",
       "station_end            0\n",
       "ride_duration      73064\n",
       "ride_late          73064\n",
       "dtype: int64"
      ]
     },
     "metadata": {},
     "execution_count": 5
    }
   ],
   "source": [
    "#Antes\n",
    "df_clean.isnull().sum()"
   ]
  },
  {
   "cell_type": "code",
   "execution_count": 6,
   "metadata": {},
   "outputs": [
    {
     "output_type": "execute_result",
     "data": {
      "text/plain": [
       "user_gender            0\n",
       "user_birthdate         1\n",
       "user_residence    179818\n",
       "ride_date              0\n",
       "time_start             0\n",
       "time_end           43212\n",
       "station_start          0\n",
       "station_end            0\n",
       "ride_duration          0\n",
       "ride_late          73064\n",
       "dtype: int64"
      ]
     },
     "metadata": {},
     "execution_count": 6
    }
   ],
   "source": [
    "#Preencher valores ausentes em 'ride_duration' com a mediana\n",
    "rd_median = df_clean.ride_duration.median()\n",
    "df_clean = df_clean.fillna({'ride_duration': rd_median})\n",
    "\n",
    "#Ver valores ausentes\n",
    "df_clean.isnull().sum()"
   ]
  },
  {
   "source": [
    "Na coluna `user_gender` há uma variável categória, portanto o ideal nessa coluna é utilizar o valor mais frequente para o preenchimento dos valores."
   ],
   "cell_type": "markdown",
   "metadata": {}
  },
  {
   "cell_type": "code",
   "execution_count": 7,
   "metadata": {},
   "outputs": [
    {
     "output_type": "execute_result",
     "data": {
      "text/plain": [
       "user_gender          396\n",
       "user_birthdate         1\n",
       "user_residence    179905\n",
       "ride_date              0\n",
       "time_start             0\n",
       "time_end           43285\n",
       "station_start          0\n",
       "station_end            0\n",
       "ride_duration      73174\n",
       "ride_late          73174\n",
       "dtype: int64"
      ]
     },
     "metadata": {},
     "execution_count": 7
    }
   ],
   "source": [
    "#Copiar novamente\n",
    "df_clean = df.copy()\n",
    "\n",
    "#Ver valores ausentes\n",
    "df_clean.isnull().sum()"
   ]
  },
  {
   "cell_type": "code",
   "execution_count": 8,
   "metadata": {},
   "outputs": [
    {
     "output_type": "execute_result",
     "data": {
      "text/plain": [
       "M    212608\n",
       "F     74318\n",
       "Name: user_gender, dtype: int64"
      ]
     },
     "metadata": {},
     "execution_count": 8
    }
   ],
   "source": [
    "#Ver o valor mais frequente\n",
    "df_clean.user_gender.value_counts()"
   ]
  },
  {
   "cell_type": "code",
   "execution_count": 9,
   "metadata": {},
   "outputs": [
    {
     "output_type": "execute_result",
     "data": {
      "text/plain": [
       "user_gender            0\n",
       "user_birthdate         1\n",
       "user_residence    179905\n",
       "ride_date              0\n",
       "time_start             0\n",
       "time_end           43285\n",
       "station_start          0\n",
       "station_end            0\n",
       "ride_duration      73174\n",
       "ride_late          73174\n",
       "dtype: int64"
      ]
     },
     "metadata": {},
     "execution_count": 9
    }
   ],
   "source": [
    "#PReencher os valores ausentes de user_gender com 'M'\n",
    "df_clean = df_clean.fillna({'user_gender': 'M'})\n",
    "\n",
    "#Ver valores ausentes\n",
    "df_clean.isnull().sum()"
   ]
  },
  {
   "source": [
    "## Conclusão \n",
    "\n",
    "Nesse *notebook* foram utilizadas algumas técnicas de retirada de valores ausentes. O ponto importante a ser levado em consideração aqui é que o mais ideal é sempre fazer o preenchimento dos dados ausentes ao invés de fazer a remoção dos mesmos."
   ],
   "cell_type": "markdown",
   "metadata": {}
  }
 ]
}