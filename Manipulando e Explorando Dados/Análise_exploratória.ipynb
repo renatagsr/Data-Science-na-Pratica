{
 "metadata": {
  "language_info": {
   "codemirror_mode": {
    "name": "ipython",
    "version": 3
   },
   "file_extension": ".py",
   "mimetype": "text/x-python",
   "name": "python",
   "nbconvert_exporter": "python",
   "pygments_lexer": "ipython3",
   "version": "3.8.5-final"
  },
  "orig_nbformat": 2,
  "kernelspec": {
   "name": "python3",
   "display_name": "Python 3",
   "language": "python"
  }
 },
 "nbformat": 4,
 "nbformat_minor": 2,
 "cells": [
  {
   "source": [
    "# Análise Exploratória\n",
    "\n",
    "A análise exploratória envolve toda a análise desde a aquisição dos dados. Há diversas técnicas para se fazer uma análise, cada *dataset* demandará uma técnica (ou conjunto delas) diferente.\n",
    "\n",
    "Uma coisa é fato, a análise exploratória é de grande importância para entender os dados. Ela é imprescindível para melhorar a eficiência das demais etapas.\n",
    "\n",
    "Os dados utilizados nesse *notebook* são sobre ocorrências com a aviação civil no Brasil."
   ],
   "cell_type": "markdown",
   "metadata": {}
  },
  {
   "cell_type": "code",
   "execution_count": 1,
   "metadata": {},
   "outputs": [],
   "source": [
    "#Importar bibliotecas\n",
    "import pandas as pd"
   ]
  },
  {
   "cell_type": "code",
   "execution_count": 2,
   "metadata": {},
   "outputs": [
    {
     "output_type": "execute_result",
     "data": {
      "text/plain": [
       "                  ocorrencia_classificacao  \\\n",
       "codigo_ocorrencia                            \n",
       "201305055424986                   ACIDENTE   \n",
       "201605160250139            INCIDENTE GRAVE   \n",
       "201805021421302                  INCIDENTE   \n",
       "201311259977425            INCIDENTE GRAVE   \n",
       "201103187273112                  INCIDENTE   \n",
       "\n",
       "                                                     ocorrencia_tipo  \\\n",
       "codigo_ocorrencia                                                      \n",
       "201305055424986                                FALHA DO MOTOR EM VOO   \n",
       "201605160250139    COLISÃO COM OBSTÁCULO DURANTE A DECOLAGEM E POUSO   \n",
       "201805021421302                                            AERÓDROMO   \n",
       "201311259977425                                       POUSO SEM TREM   \n",
       "201103187273112                                               OUTROS   \n",
       "\n",
       "                                           ocorrencia_tipo_categoria  \\\n",
       "codigo_ocorrencia                                                      \n",
       "201305055424986                  FALHA OU MAU FUNCIONAMENTO DO MOTOR   \n",
       "201605160250139    COLISÃO COM OBSTÁCULO DURANTE A DECOLAGEM E POUSO   \n",
       "201805021421302                                            AERÓDROMO   \n",
       "201311259977425                          CONTATO ANORMAL COM A PISTA   \n",
       "201103187273112                                               OUTROS   \n",
       "\n",
       "                  ocorrencia_tipo_icao  ocorrencia_latitude  \\\n",
       "codigo_ocorrencia                                             \n",
       "201305055424986                 SCF-PP              -9.9085   \n",
       "201605160250139                   CTOL             -11.2644   \n",
       "201805021421302                   ADRM             -11.4956   \n",
       "201311259977425                    ARC             -11.4956   \n",
       "201103187273112                   OTHR             -13.1950   \n",
       "\n",
       "                   ocorrencia_longitude ocorrencia_cidade ocorrencia_uf  \\\n",
       "codigo_ocorrencia                                                         \n",
       "201305055424986                -63.0333         ARIQUEMES            RO   \n",
       "201605160250139                -61.2589            CACOAL            RO   \n",
       "201805021421302                -61.4508            CACOAL            RO   \n",
       "201311259977425                -61.4508            CACOAL            RO   \n",
       "201103187273112                -60.8184        CEREJEIRAS            RO   \n",
       "\n",
       "                  ocorrencia_pais ocorrencia_aerodromo  ...  \\\n",
       "codigo_ocorrencia                                       ...   \n",
       "201305055424986            BRASIL                 SJOG  ...   \n",
       "201605160250139            BRASIL                 SSKW  ...   \n",
       "201805021421302            BRASIL                 SSKW  ...   \n",
       "201311259977425            BRASIL                 SSKW  ...   \n",
       "201103187273112            BRASIL                 ****  ...   \n",
       "\n",
       "                  ocorrencia_horario investigacao_aeronave_liberada  \\\n",
       "codigo_ocorrencia                                                     \n",
       "201305055424986             11:00:00                            NaN   \n",
       "201605160250139             19:19:00                            SIM   \n",
       "201805021421302             22:40:00                            SIM   \n",
       "201311259977425             12:32:00                            NaN   \n",
       "201103187273112             13:30:00                            NaN   \n",
       "\n",
       "                  investigacao_status divulgacao_relatorio_numero  \\\n",
       "codigo_ocorrencia                                                   \n",
       "201305055424986            FINALIZADA                         ***   \n",
       "201605160250139                 ATIVA          IG-084/CENIPA/2016   \n",
       "201805021421302            FINALIZADA                         ***   \n",
       "201311259977425            FINALIZADA          IG-209/CENIPA/2013   \n",
       "201103187273112            FINALIZADA                         ***   \n",
       "\n",
       "                  divulgacao_relatorio_publicado divulgacao_dia_publicacao  \\\n",
       "codigo_ocorrencia                                                            \n",
       "201305055424986                              NÃO                       NaN   \n",
       "201605160250139                              NÃO                       NaN   \n",
       "201805021421302                              NÃO                       NaN   \n",
       "201311259977425                              SIM                2014-04-07   \n",
       "201103187273112                              NÃO                       NaN   \n",
       "\n",
       "                  total_recomendacoes  total_aeronaves_envolvidas  \\\n",
       "codigo_ocorrencia                                                   \n",
       "201305055424986                     0                           1   \n",
       "201605160250139                     0                           1   \n",
       "201805021421302                     0                           1   \n",
       "201311259977425                     0                           1   \n",
       "201103187273112                     0                           1   \n",
       "\n",
       "                   ocorrencia_saida_pista ocorrencia_dia_extracao  \n",
       "codigo_ocorrencia                                                  \n",
       "201305055424986                       NÃO              2018-08-28  \n",
       "201605160250139                       NÃO              2018-08-28  \n",
       "201805021421302                       NÃO              2018-08-28  \n",
       "201311259977425                       NÃO              2018-08-28  \n",
       "201103187273112                       NÃO              2018-08-28  \n",
       "\n",
       "[5 rows x 21 columns]"
      ],
      "text/html": "<div>\n<style scoped>\n    .dataframe tbody tr th:only-of-type {\n        vertical-align: middle;\n    }\n\n    .dataframe tbody tr th {\n        vertical-align: top;\n    }\n\n    .dataframe thead th {\n        text-align: right;\n    }\n</style>\n<table border=\"1\" class=\"dataframe\">\n  <thead>\n    <tr style=\"text-align: right;\">\n      <th></th>\n      <th>ocorrencia_classificacao</th>\n      <th>ocorrencia_tipo</th>\n      <th>ocorrencia_tipo_categoria</th>\n      <th>ocorrencia_tipo_icao</th>\n      <th>ocorrencia_latitude</th>\n      <th>ocorrencia_longitude</th>\n      <th>ocorrencia_cidade</th>\n      <th>ocorrencia_uf</th>\n      <th>ocorrencia_pais</th>\n      <th>ocorrencia_aerodromo</th>\n      <th>...</th>\n      <th>ocorrencia_horario</th>\n      <th>investigacao_aeronave_liberada</th>\n      <th>investigacao_status</th>\n      <th>divulgacao_relatorio_numero</th>\n      <th>divulgacao_relatorio_publicado</th>\n      <th>divulgacao_dia_publicacao</th>\n      <th>total_recomendacoes</th>\n      <th>total_aeronaves_envolvidas</th>\n      <th>ocorrencia_saida_pista</th>\n      <th>ocorrencia_dia_extracao</th>\n    </tr>\n    <tr>\n      <th>codigo_ocorrencia</th>\n      <th></th>\n      <th></th>\n      <th></th>\n      <th></th>\n      <th></th>\n      <th></th>\n      <th></th>\n      <th></th>\n      <th></th>\n      <th></th>\n      <th></th>\n      <th></th>\n      <th></th>\n      <th></th>\n      <th></th>\n      <th></th>\n      <th></th>\n      <th></th>\n      <th></th>\n      <th></th>\n      <th></th>\n    </tr>\n  </thead>\n  <tbody>\n    <tr>\n      <th>201305055424986</th>\n      <td>ACIDENTE</td>\n      <td>FALHA DO MOTOR EM VOO</td>\n      <td>FALHA OU MAU FUNCIONAMENTO DO MOTOR</td>\n      <td>SCF-PP</td>\n      <td>-9.9085</td>\n      <td>-63.0333</td>\n      <td>ARIQUEMES</td>\n      <td>RO</td>\n      <td>BRASIL</td>\n      <td>SJOG</td>\n      <td>...</td>\n      <td>11:00:00</td>\n      <td>NaN</td>\n      <td>FINALIZADA</td>\n      <td>***</td>\n      <td>NÃO</td>\n      <td>NaN</td>\n      <td>0</td>\n      <td>1</td>\n      <td>NÃO</td>\n      <td>2018-08-28</td>\n    </tr>\n    <tr>\n      <th>201605160250139</th>\n      <td>INCIDENTE GRAVE</td>\n      <td>COLISÃO COM OBSTÁCULO DURANTE A DECOLAGEM E POUSO</td>\n      <td>COLISÃO COM OBSTÁCULO DURANTE A DECOLAGEM E POUSO</td>\n      <td>CTOL</td>\n      <td>-11.2644</td>\n      <td>-61.2589</td>\n      <td>CACOAL</td>\n      <td>RO</td>\n      <td>BRASIL</td>\n      <td>SSKW</td>\n      <td>...</td>\n      <td>19:19:00</td>\n      <td>SIM</td>\n      <td>ATIVA</td>\n      <td>IG-084/CENIPA/2016</td>\n      <td>NÃO</td>\n      <td>NaN</td>\n      <td>0</td>\n      <td>1</td>\n      <td>NÃO</td>\n      <td>2018-08-28</td>\n    </tr>\n    <tr>\n      <th>201805021421302</th>\n      <td>INCIDENTE</td>\n      <td>AERÓDROMO</td>\n      <td>AERÓDROMO</td>\n      <td>ADRM</td>\n      <td>-11.4956</td>\n      <td>-61.4508</td>\n      <td>CACOAL</td>\n      <td>RO</td>\n      <td>BRASIL</td>\n      <td>SSKW</td>\n      <td>...</td>\n      <td>22:40:00</td>\n      <td>SIM</td>\n      <td>FINALIZADA</td>\n      <td>***</td>\n      <td>NÃO</td>\n      <td>NaN</td>\n      <td>0</td>\n      <td>1</td>\n      <td>NÃO</td>\n      <td>2018-08-28</td>\n    </tr>\n    <tr>\n      <th>201311259977425</th>\n      <td>INCIDENTE GRAVE</td>\n      <td>POUSO SEM TREM</td>\n      <td>CONTATO ANORMAL COM A PISTA</td>\n      <td>ARC</td>\n      <td>-11.4956</td>\n      <td>-61.4508</td>\n      <td>CACOAL</td>\n      <td>RO</td>\n      <td>BRASIL</td>\n      <td>SSKW</td>\n      <td>...</td>\n      <td>12:32:00</td>\n      <td>NaN</td>\n      <td>FINALIZADA</td>\n      <td>IG-209/CENIPA/2013</td>\n      <td>SIM</td>\n      <td>2014-04-07</td>\n      <td>0</td>\n      <td>1</td>\n      <td>NÃO</td>\n      <td>2018-08-28</td>\n    </tr>\n    <tr>\n      <th>201103187273112</th>\n      <td>INCIDENTE</td>\n      <td>OUTROS</td>\n      <td>OUTROS</td>\n      <td>OTHR</td>\n      <td>-13.1950</td>\n      <td>-60.8184</td>\n      <td>CEREJEIRAS</td>\n      <td>RO</td>\n      <td>BRASIL</td>\n      <td>****</td>\n      <td>...</td>\n      <td>13:30:00</td>\n      <td>NaN</td>\n      <td>FINALIZADA</td>\n      <td>***</td>\n      <td>NÃO</td>\n      <td>NaN</td>\n      <td>0</td>\n      <td>1</td>\n      <td>NÃO</td>\n      <td>2018-08-28</td>\n    </tr>\n  </tbody>\n</table>\n<p>5 rows × 21 columns</p>\n</div>"
     },
     "metadata": {},
     "execution_count": 2
    }
   ],
   "source": [
    "#importar arquivo csv\n",
    "df = pd.read_csv('https://raw.githubusercontent.com/carlosfab/dsnp2/master/datasets/ocorrencias_aviacao.csv', index_col='codigo_ocorrencia')\n",
    "\n",
    "#Ver as primeiras entradas\n",
    "df.head()"
   ]
  },
  {
   "source": [
    "## Resumo do *DataFrame*\n",
    "\n",
    "Utilizando o método `info()` irá obter uma resumo geral de todas as variáveis (colunas) presentes no dataset. É possível a quantidade de entradas, quantos valores são não nuloes, o tipo de cada variável e a memória que é utilizada para carregar o DataFrame."
   ],
   "cell_type": "markdown",
   "metadata": {}
  },
  {
   "cell_type": "code",
   "execution_count": 3,
   "metadata": {},
   "outputs": [
    {
     "output_type": "stream",
     "name": "stdout",
     "text": [
      "<class 'pandas.core.frame.DataFrame'>\nInt64Index: 5208 entries, 201305055424986 to 201309012098180\nData columns (total 21 columns):\n #   Column                          Non-Null Count  Dtype  \n---  ------                          --------------  -----  \n 0   ocorrencia_classificacao        5208 non-null   object \n 1   ocorrencia_tipo                 5208 non-null   object \n 2   ocorrencia_tipo_categoria       5208 non-null   object \n 3   ocorrencia_tipo_icao            5208 non-null   object \n 4   ocorrencia_latitude             5208 non-null   float64\n 5   ocorrencia_longitude            5208 non-null   float64\n 6   ocorrencia_cidade               5208 non-null   object \n 7   ocorrencia_uf                   5208 non-null   object \n 8   ocorrencia_pais                 5208 non-null   object \n 9   ocorrencia_aerodromo            5208 non-null   object \n 10  ocorrencia_dia                  5208 non-null   object \n 11  ocorrencia_horario              5208 non-null   object \n 12  investigacao_aeronave_liberada  1110 non-null   object \n 13  investigacao_status             5208 non-null   object \n 14  divulgacao_relatorio_numero     5208 non-null   object \n 15  divulgacao_relatorio_publicado  5208 non-null   object \n 16  divulgacao_dia_publicacao       1261 non-null   object \n 17  total_recomendacoes             5208 non-null   int64  \n 18  total_aeronaves_envolvidas      5208 non-null   int64  \n 19  ocorrencia_saida_pista          5208 non-null   object \n 20  ocorrencia_dia_extracao         5208 non-null   object \ndtypes: float64(2), int64(2), object(17)\nmemory usage: 895.1+ KB\n"
     ]
    }
   ],
   "source": [
    "#Resumo do df\n",
    "df.info()"
   ]
  },
  {
   "source": [
    "## Identificar o tipo de cada coluna\n",
    "\n",
    "Além do método `info()` pode ser utilizado o `dtypes()`que fornece apenas o tipo de cada coluna do dataset."
   ],
   "cell_type": "markdown",
   "metadata": {}
  },
  {
   "cell_type": "code",
   "execution_count": 4,
   "metadata": {},
   "outputs": [
    {
     "output_type": "execute_result",
     "data": {
      "text/plain": [
       "ocorrencia_classificacao           object\n",
       "ocorrencia_tipo                    object\n",
       "ocorrencia_tipo_categoria          object\n",
       "ocorrencia_tipo_icao               object\n",
       "ocorrencia_latitude               float64\n",
       "ocorrencia_longitude              float64\n",
       "ocorrencia_cidade                  object\n",
       "ocorrencia_uf                      object\n",
       "ocorrencia_pais                    object\n",
       "ocorrencia_aerodromo               object\n",
       "ocorrencia_dia                     object\n",
       "ocorrencia_horario                 object\n",
       "investigacao_aeronave_liberada     object\n",
       "investigacao_status                object\n",
       "divulgacao_relatorio_numero        object\n",
       "divulgacao_relatorio_publicado     object\n",
       "divulgacao_dia_publicacao          object\n",
       "total_recomendacoes                 int64\n",
       "total_aeronaves_envolvidas          int64\n",
       "ocorrencia_saida_pista             object\n",
       "ocorrencia_dia_extracao            object\n",
       "dtype: object"
      ]
     },
     "metadata": {},
     "execution_count": 4
    }
   ],
   "source": [
    "#Identificar os tipos de variáveis\n",
    "df.dtypes"
   ]
  },
  {
   "source": [
    "## Valores Únicos\n",
    "\n",
    "O método `unique()` permite que veja quais sao os valores únicos de cada coluna."
   ],
   "cell_type": "markdown",
   "metadata": {}
  },
  {
   "cell_type": "code",
   "execution_count": 5,
   "metadata": {},
   "outputs": [
    {
     "output_type": "execute_result",
     "data": {
      "text/plain": [
       "array(['ACIDENTE', 'INCIDENTE GRAVE', 'INCIDENTE'], dtype=object)"
      ]
     },
     "metadata": {},
     "execution_count": 5
    }
   ],
   "source": [
    "df.ocorrencia_classificacao.unique()"
   ]
  },
  {
   "cell_type": "code",
   "execution_count": 6,
   "metadata": {},
   "outputs": [
    {
     "output_type": "execute_result",
     "data": {
      "text/plain": [
       "array(['FALHA DO MOTOR EM VOO',\n",
       "       'COLISÃO COM OBSTÁCULO DURANTE A DECOLAGEM E POUSO', 'AERÓDROMO',\n",
       "       'POUSO SEM TREM', 'OUTROS', 'PERDA DE CONTROLE NO SOLO',\n",
       "       'POUSO LONGO', 'TRÁFEGO AÉREO', 'PERDA DE CONTROLE EM VOO',\n",
       "       'COM TREM DE POUSO', 'INDETERMINADO', 'ESTOURO DE PNEU',\n",
       "       'VOO CONTROLADO CONTRA O TERRENO', 'EXCURSÃO DE PISTA',\n",
       "       'POUSO BRUSCO', 'CAUSADO POR FENÔMENO METEOROLÓGICO EM VOO',\n",
       "       'INCURSÃO EM PISTA', 'VAZAMENTO DE OUTROS FLUIDOS', 'COM ROTOR',\n",
       "       'FALHA OU MAU FUNCIONAMENTO DE SISTEMA / COMPONENTE ',\n",
       "       'PERDA DE COMPONENTE EM VOO', 'SOPRO DE REATOR',\n",
       "       'COM PARA-BRISAS / JANELA / PORTA', 'COM LANÇAMENTO DE CARGA',\n",
       "       'POUSO ANTES DA PISTA', 'F.O.D.', 'PROBLEMAS FISIOLÓGICOS',\n",
       "       'DESCOMPRESSÃO NÃO INTENCIONAL / EXPLOSIVA',\n",
       "       'COLISÃO DE VEÍCULO COM AERONAVE', 'FOGO NO SOLO', 'FOGO EM VOO',\n",
       "       'CAUSADO POR FENÔMENO METEOROLÓGICO NO SOLO', 'COM PESSOAL EM VOO',\n",
       "       'COLISÃO DE AERONAVES EM VOO', 'FUMAÇA NA CABINE',\n",
       "       'COLISÃO COM OBSTÁCULOS NO SOLO', 'PERDA DE COMPONENTE NO SOLO',\n",
       "       'SOPRO DE ROTOR', 'FALHA DO MOTOR NO SOLO', 'SUPERAQUECIMENTO',\n",
       "       'COM COMANDOS DE VOO', 'FALHA ESTRUTURAL',\n",
       "       'POUSO EM LOCAL NÃO PREVISTO', 'DESORIENTAÇÃO ESPACIAL',\n",
       "       'VAZAMENTO DE COMBUSTÍVEL', 'PANE SECA',\n",
       "       'COLISÃO COM AERONAVE NO SOLO', 'CORTE INVOLUNTÁRIO DO MOTOR',\n",
       "       'TURBULÊNCIA', 'OPERAÇÃO A BAIXA ALTITUDE', 'COM HÉLICE',\n",
       "       'COM LANÇAMENTO DE PESSOAS', 'COLISÃO EM VOO COM OBJETO REBOCADO',\n",
       "       'AERONAVE ATINGIDA POR OBJETO',\n",
       "       'FALHA OU MAU FUNCIONAMENTO DO MOTOR',\n",
       "       'CONTATO ANORMAL COM A PISTA ', 'CORTANTE DE VENTO / TEMPESTADE',\n",
       "       'OPERAÇÕES NO SOLO', 'CAUSADO POR RICOCHETE',\n",
       "       'RELACIONADO COM SECURITY', 'PERDA DA CONSCIÊNCIA',\n",
       "       'ALARME FALSO DE FOGO OU DE SUPERAQUECIMENTO', 'MANOBRA ABRUPTA'],\n",
       "      dtype=object)"
      ]
     },
     "metadata": {},
     "execution_count": 6
    }
   ],
   "source": [
    "df.ocorrencia_tipo.unique()"
   ]
  },
  {
   "source": [
    "O método utilizado anteriomente retorna uma lista com valores únicos, é útil mas não é sempre que se deseja apenas essa informação, muitas vezes se deseja saber qual a frequência de cada um desses valores. Para saber essa frequência é utilizado o método `value_counts()`."
   ],
   "cell_type": "markdown",
   "metadata": {}
  },
  {
   "cell_type": "code",
   "execution_count": 7,
   "metadata": {},
   "outputs": [
    {
     "output_type": "execute_result",
     "data": {
      "text/plain": [
       "FALHA DO MOTOR EM VOO                                  682\n",
       "ESTOURO DE PNEU                                        604\n",
       "FALHA OU MAU FUNCIONAMENTO DE SISTEMA / COMPONENTE     574\n",
       "PERDA DE CONTROLE NO SOLO                              492\n",
       "OUTROS                                                 350\n",
       "                                                      ... \n",
       "CORTANTE DE VENTO / TEMPESTADE                           1\n",
       "RELACIONADO COM SECURITY                                 1\n",
       "CAUSADO POR RICOCHETE                                    1\n",
       "PERDA DA CONSCIÊNCIA                                     1\n",
       "MANOBRA ABRUPTA                                          1\n",
       "Name: ocorrencia_tipo, Length: 63, dtype: int64"
      ]
     },
     "metadata": {},
     "execution_count": 7
    }
   ],
   "source": [
    "df.ocorrencia_tipo.value_counts()"
   ]
  },
  {
   "source": [
    "Uma interpretação mais rápida e prática é a de transformar os valores gerados em porcentagem, dessa forma saberá quão a relevância de cada coluna em relação ao todo. Para fazer essa transformação basta fazer a contagem de cada ocorrência (vide célula anterior) e dividir pela quantidade total de dados."
   ],
   "cell_type": "markdown",
   "metadata": {}
  },
  {
   "cell_type": "code",
   "execution_count": 8,
   "metadata": {},
   "outputs": [
    {
     "output_type": "execute_result",
     "data": {
      "text/plain": [
       "FALHA DO MOTOR EM VOO                                  0.130952\n",
       "ESTOURO DE PNEU                                        0.115975\n",
       "FALHA OU MAU FUNCIONAMENTO DE SISTEMA / COMPONENTE     0.110215\n",
       "PERDA DE CONTROLE NO SOLO                              0.094470\n",
       "OUTROS                                                 0.067204\n",
       "                                                         ...   \n",
       "CORTANTE DE VENTO / TEMPESTADE                         0.000192\n",
       "RELACIONADO COM SECURITY                               0.000192\n",
       "CAUSADO POR RICOCHETE                                  0.000192\n",
       "PERDA DA CONSCIÊNCIA                                   0.000192\n",
       "MANOBRA ABRUPTA                                        0.000192\n",
       "Name: ocorrencia_tipo, Length: 63, dtype: float64"
      ]
     },
     "metadata": {},
     "execution_count": 8
    }
   ],
   "source": [
    "df.ocorrencia_tipo.value_counts() / df.shape[0]"
   ]
  },
  {
   "source": [
    "## Filtrando Valores\n",
    "\n",
    "Há diversas formas de filtrar dados em um *DataFrame*, cada um com suas caracteristicas específicas. \n",
    "\n",
    "Método ***loc***\n",
    "\n",
    "`loc[<linha>, <coluna>]` --> forma de funcionamento do método. \n",
    "\n",
    "Utiliza-se esse método em duas situações:\n",
    "\n",
    "1 - Selecionar linhas por *labels/index*;\n",
    "\n",
    "2 - Selecionar linhas baseado em um *array* booleano. "
   ],
   "cell_type": "markdown",
   "metadata": {}
  },
  {
   "cell_type": "code",
   "execution_count": 9,
   "metadata": {},
   "outputs": [
    {
     "output_type": "execute_result",
     "data": {
      "text/plain": [
       "ocorrencia_latitude    -11.4956\n",
       "ocorrencia_longitude   -61.4508\n",
       "Name: 201805021421302, dtype: object"
      ]
     },
     "metadata": {},
     "execution_count": 9
    }
   ],
   "source": [
    "#SITUAÇÃO 1\n",
    "#Selecionar a ocorrencia 201805021421302\n",
    "df.loc[201805021421302, ['ocorrencia_latitude', 'ocorrencia_longitude']]"
   ]
  },
  {
   "cell_type": "code",
   "execution_count": 10,
   "metadata": {},
   "outputs": [
    {
     "output_type": "execute_result",
     "data": {
      "text/plain": [
       "                  ocorrencia_classificacao        ocorrencia_tipo  \\\n",
       "codigo_ocorrencia                                                   \n",
       "201305055424986                   ACIDENTE  FALHA DO MOTOR EM VOO   \n",
       "201211159478138                   ACIDENTE  FALHA DO MOTOR EM VOO   \n",
       "200811167138358                   ACIDENTE  FALHA DO MOTOR EM VOO   \n",
       "201111224132085                   ACIDENTE  FALHA DO MOTOR EM VOO   \n",
       "201509183338691                   ACIDENTE  FALHA DO MOTOR EM VOO   \n",
       "\n",
       "                             ocorrencia_tipo_categoria ocorrencia_tipo_icao  \\\n",
       "codigo_ocorrencia                                                             \n",
       "201305055424986    FALHA OU MAU FUNCIONAMENTO DO MOTOR               SCF-PP   \n",
       "201211159478138    FALHA OU MAU FUNCIONAMENTO DO MOTOR               SCF-PP   \n",
       "200811167138358    FALHA OU MAU FUNCIONAMENTO DO MOTOR               SCF-PP   \n",
       "201111224132085    FALHA OU MAU FUNCIONAMENTO DO MOTOR               SCF-PP   \n",
       "201509183338691    FALHA OU MAU FUNCIONAMENTO DO MOTOR               SCF-PP   \n",
       "\n",
       "                   ocorrencia_latitude  ocorrencia_longitude  \\\n",
       "codigo_ocorrencia                                              \n",
       "201305055424986                -9.9085              -63.0333   \n",
       "201211159478138               -16.7588              -49.4405   \n",
       "200811167138358                 2.8100              -61.3831   \n",
       "201111224132085                 0.7394              -62.0214   \n",
       "201509183338691               -23.0061              -44.3025   \n",
       "\n",
       "                  ocorrencia_cidade ocorrencia_uf ocorrencia_pais  \\\n",
       "codigo_ocorrencia                                                   \n",
       "201305055424986           ARIQUEMES            RO          BRASIL   \n",
       "201211159478138     ABADIA DE GOIÁS            GO          BRASIL   \n",
       "200811167138358         ALTO ALEGRE            RR          BRASIL   \n",
       "201111224132085         ALTO ALEGRE            RR          BRASIL   \n",
       "201509183338691      ANGRA DOS REIS            RJ          BRASIL   \n",
       "\n",
       "                  ocorrencia_aerodromo  ... ocorrencia_horario  \\\n",
       "codigo_ocorrencia                       ...                      \n",
       "201305055424986                   SJOG  ...           11:00:00   \n",
       "201211159478138                   ****  ...           12:40:00   \n",
       "200811167138358                   ****  ...           12:25:00   \n",
       "201111224132085                   ****  ...           16:40:00   \n",
       "201509183338691                   ****  ...           13:30:00   \n",
       "\n",
       "                  investigacao_aeronave_liberada investigacao_status  \\\n",
       "codigo_ocorrencia                                                      \n",
       "201305055424986                              NaN          FINALIZADA   \n",
       "201211159478138                              NaN          FINALIZADA   \n",
       "200811167138358                              NaN          FINALIZADA   \n",
       "201111224132085                              NaN          FINALIZADA   \n",
       "201509183338691                              NaN          FINALIZADA   \n",
       "\n",
       "                  divulgacao_relatorio_numero divulgacao_relatorio_publicado  \\\n",
       "codigo_ocorrencia                                                              \n",
       "201305055424986                           ***                            NÃO   \n",
       "201211159478138                           ***                            NÃO   \n",
       "200811167138358             A-566/CENIPA/2015                            SIM   \n",
       "201111224132085             A-038/CENIPA/2013                            SIM   \n",
       "201509183338691                           ***                            NÃO   \n",
       "\n",
       "                  divulgacao_dia_publicacao total_recomendacoes  \\\n",
       "codigo_ocorrencia                                                 \n",
       "201305055424986                         NaN                   0   \n",
       "201211159478138                         NaN                   0   \n",
       "200811167138358                  2016-03-18                   3   \n",
       "201111224132085                  2013-08-22                   2   \n",
       "201509183338691                         NaN                   0   \n",
       "\n",
       "                   total_aeronaves_envolvidas  ocorrencia_saida_pista  \\\n",
       "codigo_ocorrencia                                                       \n",
       "201305055424986                             1                     NÃO   \n",
       "201211159478138                             1                     NÃO   \n",
       "200811167138358                             1                     NÃO   \n",
       "201111224132085                             1                     NÃO   \n",
       "201509183338691                             1                     NÃO   \n",
       "\n",
       "                  ocorrencia_dia_extracao  \n",
       "codigo_ocorrencia                          \n",
       "201305055424986                2018-08-28  \n",
       "201211159478138                2018-08-28  \n",
       "200811167138358                2018-08-28  \n",
       "201111224132085                2018-08-28  \n",
       "201509183338691                2018-08-28  \n",
       "\n",
       "[5 rows x 21 columns]"
      ],
      "text/html": "<div>\n<style scoped>\n    .dataframe tbody tr th:only-of-type {\n        vertical-align: middle;\n    }\n\n    .dataframe tbody tr th {\n        vertical-align: top;\n    }\n\n    .dataframe thead th {\n        text-align: right;\n    }\n</style>\n<table border=\"1\" class=\"dataframe\">\n  <thead>\n    <tr style=\"text-align: right;\">\n      <th></th>\n      <th>ocorrencia_classificacao</th>\n      <th>ocorrencia_tipo</th>\n      <th>ocorrencia_tipo_categoria</th>\n      <th>ocorrencia_tipo_icao</th>\n      <th>ocorrencia_latitude</th>\n      <th>ocorrencia_longitude</th>\n      <th>ocorrencia_cidade</th>\n      <th>ocorrencia_uf</th>\n      <th>ocorrencia_pais</th>\n      <th>ocorrencia_aerodromo</th>\n      <th>...</th>\n      <th>ocorrencia_horario</th>\n      <th>investigacao_aeronave_liberada</th>\n      <th>investigacao_status</th>\n      <th>divulgacao_relatorio_numero</th>\n      <th>divulgacao_relatorio_publicado</th>\n      <th>divulgacao_dia_publicacao</th>\n      <th>total_recomendacoes</th>\n      <th>total_aeronaves_envolvidas</th>\n      <th>ocorrencia_saida_pista</th>\n      <th>ocorrencia_dia_extracao</th>\n    </tr>\n    <tr>\n      <th>codigo_ocorrencia</th>\n      <th></th>\n      <th></th>\n      <th></th>\n      <th></th>\n      <th></th>\n      <th></th>\n      <th></th>\n      <th></th>\n      <th></th>\n      <th></th>\n      <th></th>\n      <th></th>\n      <th></th>\n      <th></th>\n      <th></th>\n      <th></th>\n      <th></th>\n      <th></th>\n      <th></th>\n      <th></th>\n      <th></th>\n    </tr>\n  </thead>\n  <tbody>\n    <tr>\n      <th>201305055424986</th>\n      <td>ACIDENTE</td>\n      <td>FALHA DO MOTOR EM VOO</td>\n      <td>FALHA OU MAU FUNCIONAMENTO DO MOTOR</td>\n      <td>SCF-PP</td>\n      <td>-9.9085</td>\n      <td>-63.0333</td>\n      <td>ARIQUEMES</td>\n      <td>RO</td>\n      <td>BRASIL</td>\n      <td>SJOG</td>\n      <td>...</td>\n      <td>11:00:00</td>\n      <td>NaN</td>\n      <td>FINALIZADA</td>\n      <td>***</td>\n      <td>NÃO</td>\n      <td>NaN</td>\n      <td>0</td>\n      <td>1</td>\n      <td>NÃO</td>\n      <td>2018-08-28</td>\n    </tr>\n    <tr>\n      <th>201211159478138</th>\n      <td>ACIDENTE</td>\n      <td>FALHA DO MOTOR EM VOO</td>\n      <td>FALHA OU MAU FUNCIONAMENTO DO MOTOR</td>\n      <td>SCF-PP</td>\n      <td>-16.7588</td>\n      <td>-49.4405</td>\n      <td>ABADIA DE GOIÁS</td>\n      <td>GO</td>\n      <td>BRASIL</td>\n      <td>****</td>\n      <td>...</td>\n      <td>12:40:00</td>\n      <td>NaN</td>\n      <td>FINALIZADA</td>\n      <td>***</td>\n      <td>NÃO</td>\n      <td>NaN</td>\n      <td>0</td>\n      <td>1</td>\n      <td>NÃO</td>\n      <td>2018-08-28</td>\n    </tr>\n    <tr>\n      <th>200811167138358</th>\n      <td>ACIDENTE</td>\n      <td>FALHA DO MOTOR EM VOO</td>\n      <td>FALHA OU MAU FUNCIONAMENTO DO MOTOR</td>\n      <td>SCF-PP</td>\n      <td>2.8100</td>\n      <td>-61.3831</td>\n      <td>ALTO ALEGRE</td>\n      <td>RR</td>\n      <td>BRASIL</td>\n      <td>****</td>\n      <td>...</td>\n      <td>12:25:00</td>\n      <td>NaN</td>\n      <td>FINALIZADA</td>\n      <td>A-566/CENIPA/2015</td>\n      <td>SIM</td>\n      <td>2016-03-18</td>\n      <td>3</td>\n      <td>1</td>\n      <td>NÃO</td>\n      <td>2018-08-28</td>\n    </tr>\n    <tr>\n      <th>201111224132085</th>\n      <td>ACIDENTE</td>\n      <td>FALHA DO MOTOR EM VOO</td>\n      <td>FALHA OU MAU FUNCIONAMENTO DO MOTOR</td>\n      <td>SCF-PP</td>\n      <td>0.7394</td>\n      <td>-62.0214</td>\n      <td>ALTO ALEGRE</td>\n      <td>RR</td>\n      <td>BRASIL</td>\n      <td>****</td>\n      <td>...</td>\n      <td>16:40:00</td>\n      <td>NaN</td>\n      <td>FINALIZADA</td>\n      <td>A-038/CENIPA/2013</td>\n      <td>SIM</td>\n      <td>2013-08-22</td>\n      <td>2</td>\n      <td>1</td>\n      <td>NÃO</td>\n      <td>2018-08-28</td>\n    </tr>\n    <tr>\n      <th>201509183338691</th>\n      <td>ACIDENTE</td>\n      <td>FALHA DO MOTOR EM VOO</td>\n      <td>FALHA OU MAU FUNCIONAMENTO DO MOTOR</td>\n      <td>SCF-PP</td>\n      <td>-23.0061</td>\n      <td>-44.3025</td>\n      <td>ANGRA DOS REIS</td>\n      <td>RJ</td>\n      <td>BRASIL</td>\n      <td>****</td>\n      <td>...</td>\n      <td>13:30:00</td>\n      <td>NaN</td>\n      <td>FINALIZADA</td>\n      <td>***</td>\n      <td>NÃO</td>\n      <td>NaN</td>\n      <td>0</td>\n      <td>1</td>\n      <td>NÃO</td>\n      <td>2018-08-28</td>\n    </tr>\n  </tbody>\n</table>\n<p>5 rows × 21 columns</p>\n</div>"
     },
     "metadata": {},
     "execution_count": 10
    }
   ],
   "source": [
    "#SITUAÇÃo 2\n",
    "#Ver apenas as 5 primeiras entradas de uma situação\n",
    "df[df['ocorrencia_tipo'] == 'FALHA DO MOTOR EM VOO'].head()"
   ]
  },
  {
   "source": [
    "***iloc***\n",
    "\n",
    "Para utilizar o `iloc` basta selecionar as linhas e colunas usando números. \n",
    "\n",
    "`iloc[<numero_da_linha>, <numero_da_coluna>]`\n",
    "\n",
    "É possível selecionar um *range* de interesse."
   ],
   "cell_type": "markdown",
   "metadata": {}
  },
  {
   "cell_type": "code",
   "execution_count": 11,
   "metadata": {},
   "outputs": [
    {
     "output_type": "execute_result",
     "data": {
      "text/plain": [
       "                  ocorrencia_classificacao  \\\n",
       "codigo_ocorrencia                            \n",
       "201305055424986                   ACIDENTE   \n",
       "201605160250139            INCIDENTE GRAVE   \n",
       "201805021421302                  INCIDENTE   \n",
       "\n",
       "                                                     ocorrencia_tipo  \\\n",
       "codigo_ocorrencia                                                      \n",
       "201305055424986                                FALHA DO MOTOR EM VOO   \n",
       "201605160250139    COLISÃO COM OBSTÁCULO DURANTE A DECOLAGEM E POUSO   \n",
       "201805021421302                                            AERÓDROMO   \n",
       "\n",
       "                                           ocorrencia_tipo_categoria  \n",
       "codigo_ocorrencia                                                     \n",
       "201305055424986                  FALHA OU MAU FUNCIONAMENTO DO MOTOR  \n",
       "201605160250139    COLISÃO COM OBSTÁCULO DURANTE A DECOLAGEM E POUSO  \n",
       "201805021421302                                            AERÓDROMO  "
      ],
      "text/html": "<div>\n<style scoped>\n    .dataframe tbody tr th:only-of-type {\n        vertical-align: middle;\n    }\n\n    .dataframe tbody tr th {\n        vertical-align: top;\n    }\n\n    .dataframe thead th {\n        text-align: right;\n    }\n</style>\n<table border=\"1\" class=\"dataframe\">\n  <thead>\n    <tr style=\"text-align: right;\">\n      <th></th>\n      <th>ocorrencia_classificacao</th>\n      <th>ocorrencia_tipo</th>\n      <th>ocorrencia_tipo_categoria</th>\n    </tr>\n    <tr>\n      <th>codigo_ocorrencia</th>\n      <th></th>\n      <th></th>\n      <th></th>\n    </tr>\n  </thead>\n  <tbody>\n    <tr>\n      <th>201305055424986</th>\n      <td>ACIDENTE</td>\n      <td>FALHA DO MOTOR EM VOO</td>\n      <td>FALHA OU MAU FUNCIONAMENTO DO MOTOR</td>\n    </tr>\n    <tr>\n      <th>201605160250139</th>\n      <td>INCIDENTE GRAVE</td>\n      <td>COLISÃO COM OBSTÁCULO DURANTE A DECOLAGEM E POUSO</td>\n      <td>COLISÃO COM OBSTÁCULO DURANTE A DECOLAGEM E POUSO</td>\n    </tr>\n    <tr>\n      <th>201805021421302</th>\n      <td>INCIDENTE</td>\n      <td>AERÓDROMO</td>\n      <td>AERÓDROMO</td>\n    </tr>\n  </tbody>\n</table>\n</div>"
     },
     "metadata": {},
     "execution_count": 11
    }
   ],
   "source": [
    "#Selecionando as 3 primeiras entradas e as 4 primeiras colunas\n",
    "df.iloc[0:3, 0:3]"
   ]
  }
 ]
}